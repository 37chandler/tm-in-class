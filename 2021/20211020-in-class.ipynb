{
 "cells": [
  {
   "cell_type": "code",
   "execution_count": 17,
   "id": "ce467acb",
   "metadata": {},
   "outputs": [],
   "source": [
    "tweets = []\n",
    "\n",
    "with open(\"/users/chandler/dropbox/teaching/2021/tm/week-08/vaping_tweets.csv\") as tweet_file :\n",
    "    tweets = [tweet.strip() for tweet in tweet_file.readlines()]"
   ]
  },
  {
   "cell_type": "code",
   "execution_count": 20,
   "id": "385744fb",
   "metadata": {},
   "outputs": [],
   "source": [
    "school_tweets = [t for t in tweets if \"school\" in t]\n",
    "non_school_tweets = [t for t in tweets if \"school\" not in t]\n",
    "\n"
   ]
  },
  {
   "cell_type": "code",
   "execution_count": 21,
   "id": "52c2b559",
   "metadata": {},
   "outputs": [
    {
     "data": {
      "text/plain": [
       "6925"
      ]
     },
     "execution_count": 21,
     "metadata": {},
     "output_type": "execute_result"
    }
   ],
   "source": [
    "len(school_tweets)"
   ]
  },
  {
   "cell_type": "code",
   "execution_count": 22,
   "id": "a671e7cd",
   "metadata": {},
   "outputs": [
    {
     "data": {
      "text/plain": [
       "331048"
      ]
     },
     "execution_count": 22,
     "metadata": {},
     "output_type": "execute_result"
    }
   ],
   "source": [
    "len(non_school_tweets)"
   ]
  },
  {
   "cell_type": "markdown",
   "id": "2b8ca316",
   "metadata": {},
   "source": [
    "Or we can use convention data."
   ]
  },
  {
   "cell_type": "code",
   "execution_count": 23,
   "id": "2ff28e9e",
   "metadata": {},
   "outputs": [],
   "source": [
    "import sqlite3"
   ]
  },
  {
   "cell_type": "code",
   "execution_count": 24,
   "id": "55fbf802",
   "metadata": {},
   "outputs": [],
   "source": [
    "db = sqlite3.connect(\"/users/chandler/dropbox/teaching/textmining/repos/tm-conv-group-comp/2020_Conventions.db\")\n",
    "cur = db.cursor()"
   ]
  },
  {
   "cell_type": "code",
   "execution_count": 28,
   "id": "6d4c818f",
   "metadata": {},
   "outputs": [],
   "source": [
    "results = cur.execute(\"\"\"\n",
    "    SELECT party, text\n",
    "    FROM conventions\n",
    "\n",
    "\"\"\")"
   ]
  },
  {
   "cell_type": "code",
   "execution_count": 30,
   "id": "0b582c9c",
   "metadata": {},
   "outputs": [],
   "source": [
    "republican = []\n",
    "democratic = []"
   ]
  },
  {
   "cell_type": "code",
   "execution_count": 31,
   "id": "ead655df",
   "metadata": {},
   "outputs": [],
   "source": [
    "for item in results :\n",
    "    party, text = item\n",
    "    if party == \"Democratic\" :\n",
    "        democratic.append(text)\n",
    "    else :\n",
    "        republican.append(text)\n"
   ]
  }
 ],
 "metadata": {
  "kernelspec": {
   "display_name": "Python 3 (ipykernel)",
   "language": "python",
   "name": "python3"
  },
  "language_info": {
   "codemirror_mode": {
    "name": "ipython",
    "version": 3
   },
   "file_extension": ".py",
   "mimetype": "text/x-python",
   "name": "python",
   "nbconvert_exporter": "python",
   "pygments_lexer": "ipython3",
   "version": "3.8.8"
  }
 },
 "nbformat": 4,
 "nbformat_minor": 5
}
