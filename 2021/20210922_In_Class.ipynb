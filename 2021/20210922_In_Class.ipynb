{
 "cells": [
  {
   "cell_type": "code",
   "execution_count": 18,
   "id": "2c496fcc",
   "metadata": {},
   "outputs": [],
   "source": [
    "import nltk\n",
    "from nltk.book import *\n",
    "from collections import defaultdict"

   ]
  },
  {
   "cell_type": "code",
   "execution_count": 10,
   "id": "2ad3878a",
   "metadata": {},
   "outputs": [],
   "source": [
    "moby = text1"
   ]
  },
  {
   "cell_type": "code",
   "execution_count": 11,
   "id": "d4ff9c2a",
   "metadata": {},
   "outputs": [],
   "source": [
    "s_and_s = text2"
   ]
  },
  {
   "cell_type": "code",
   "execution_count": 12,
   "id": "35630379",
   "metadata": {},
   "outputs": [],
   "source": [
    "def normalize(text) :\n",
    "    text = [w.lower() for w in text if w.isalpha()]\n",
    "    \n",
    "    return(text)\n",
    "    \n",
    "    "
   ]
  },
  {
   "cell_type": "code",
   "execution_count": 13,
   "id": "5fdb6c38",
   "metadata": {},
   "outputs": [],
   "source": [
    "moby = normalize(moby)\n",
    "s_and_s = normalize(s_and_s)"
   ]
  },
  {
   "cell_type": "code",
   "execution_count": 17,
   "id": "a38bcfb1",
   "metadata": {},
   "outputs": [],
   "source": [
    "moby_fd = nltk.FreqDist(moby)\n",
    "ss_fd = nltk.FreqDist(s_and_s)"
   ]
  },
  {
   "cell_type": "code",
   "execution_count": 24,
   "id": "72bf9b49",
   "metadata": {},
   "outputs": [],
   "source": [
    "moby_len = sum(moby_fd.values())\n",
    "ss_len = sum(ss_fd.values())"
   ]
  },
  {
   "cell_type": "code",
   "execution_count": 36,
   "id": "127e8411",
   "metadata": {},
   "outputs": [],
   "source": [
    "word_data = defaultdict(list)\n",
    "\n",
    "for word in moby_fd :\n",
    "    \n",
    "    word_data[word].append(moby_fd[word])\n",
    "    word_data[word].append(moby_len)\n",
    "    word_data[word].append(moby_fd[word]/moby_len)\n",
    "    \n",
    "    \n",
    "    if word not in ss_fd :\n",
    "        word_data[word].append(1) \n",
    "        word_data[word].append(ss_len)\n",
    "        word_data[word].append(1/ss_len)\n",
    "    else :\n",
    "        word_data[word].append(ss_fd[word])\n",
    "        word_data[word].append(ss_len)\n",
    "        word_data[word].append(ss_fd[word]/ss_len)\n",
    "\n",
    "        \n",
    "    \n",
    "    \n"
   ]
  },
  {
   "cell_type": "code",
   "execution_count": 37,
   "id": "44a92c4c",
   "metadata": {},
   "outputs": [],
   "source": [
    "diff_score = dict()\n",
    "ratio_score = dict()\n",
    "\n",
    "\n",
    "for word, data_list in word_data.items() :\n",
    "    \n",
    "    diff_score[word] = data_list[2] - data_list[5]\n",
    "    ratio_score[word] = data_list[2]/data_list[5]\n",
    "    \n",
    "    "
   ]
  },
  {
   "cell_type": "code",
   "execution_count": 53,
   "id": "ec4a13a7",
   "metadata": {},
   "outputs": [
    {
     "data": {
      "text/plain": [
       "[14431, 218361, 0.06608780872042169, 4105, 120733, 0.034000646053688716]"
      ]
     },
     "execution_count": 53,
     "metadata": {},
     "output_type": "execute_result"
    }
   ],
   "source": [
    "word_data['the']"
   ]
  },
  {
   "cell_type": "code",
   "execution_count": 55,
   "id": "61a6bed0",
   "metadata": {},
   "outputs": [],
   "source": [
    "the_rate = (word_data['the'][0]+word_data['the'][3])/(word_data['the'][1]+word_data['the'][4])"
   ]
  },
  {
   "cell_type": "code",
   "execution_count": 56,
   "id": "5fc9a7bb",
   "metadata": {},
   "outputs": [
    {
     "data": {
      "text/plain": [
       "0.054663308699062794"
      ]
     },
     "execution_count": 56,
     "metadata": {},
     "output_type": "execute_result"
    }
   ],
   "source": [
    "the_rate"
   ]
  },
  {
   "cell_type": "code",
   "execution_count": 57,
   "id": "9925f190",
   "metadata": {},
   "outputs": [
    {
     "data": {
      "text/plain": [
       "11936.334750836051"
      ]
     },
     "execution_count": 57,
     "metadata": {},
     "output_type": "execute_result"
    }
   ],
   "source": [
    "the_rate * 218361"
   ]
  },
  {
   "cell_type": "code",
   "execution_count": 58,
   "id": "8731d940",
   "metadata": {},
   "outputs": [
    {
     "data": {
      "text/plain": [
       "6599.665249163948"
      ]
     },
     "execution_count": 58,
     "metadata": {},
     "output_type": "execute_result"
    }
   ],
   "source": [
    "the_rate * 120733"
   ]
  },
  {
   "cell_type": "code",
   "execution_count": 40,
   "id": "7945c004",
   "metadata": {},
   "outputs": [
    {
     "data": {
      "text/plain": [
       "0.0014761993358775875"
      ]
     },
     "execution_count": 40,
     "metadata": {},
     "output_type": "execute_result"
    }
   ],
   "source": [
    "diff_score['one']"
   ]
  },
  {
   "cell_type": "code",
   "execution_count": 41,
   "id": "716afadb",
   "metadata": {},
   "outputs": [
    {
     "data": {
      "text/plain": [
       "1.5384470526238936"
      ]
     },
     "execution_count": 41,
     "metadata": {},
     "output_type": "execute_result"
    }
   ],
   "source": [
    "ratio_score['one']"
   ]
  },
  {
   "cell_type": "code",
   "execution_count": 48,
   "id": "8397a846",
   "metadata": {},
   "outputs": [
    {
     "data": {
      "text/plain": [
       "[('edward', 0.0021023023181882348),\n",
       " ('willoughby', 0.0025597477300162304),\n",
       " ('miss', 0.002632883379445266),\n",
       " ('wished', 0.010238990920064922),\n",
       " ('park', 0.010632798263144342),\n",
       " ('sister', 0.011763947014542676),\n",
       " ('mrs', 0.013561833256387877),\n",
       " ('robert', 0.014943392153608265),\n",
       " ('herself', 0.015177798305037411),\n",
       " ('manners', 0.016261926755397227),\n",
       " ('happiness', 0.01675471241465169),\n",
       " ('acquaintance', 0.017278297177609554),\n",
       " ('cleveland', 0.020477981840129843),\n",
       " ('suffered', 0.020477981840129843),\n",
       " ('affection', 0.02099641176013313)]"
      ]
     },
     "execution_count": 48,
     "metadata": {},
     "output_type": "execute_result"
    }
   ],
   "source": [
    "list(sorted(ratio_score.items(), key=lambda item: item[1]))[:15]"
   ]
  },
  {
   "cell_type": "code",
   "execution_count": 49,
   "id": "71de26a2",
   "metadata": {},
   "outputs": [
    {
     "data": {
      "text/plain": [
       "[('her', -0.019608850693555828),\n",
       " ('to', -0.012911234026436732),\n",
       " ('she', -0.012810510289961975),\n",
       " ('was', -0.00788536143457312),\n",
       " ('i', -0.006857859747568463),\n",
       " ('be', -0.006023322060917367),\n",
       " ('you', -0.0057706051729265895),\n",
       " ('not', -0.005065771233666726),\n",
       " ('had', -0.004698687251675589),\n",
       " ('mrs', -0.004330317546769437),\n",
       " ('could', -0.0037982358585338123),\n",
       " ('have', -0.0032664521594184485),\n",
       " ('for', -0.003047648868509613),\n",
       " ('it', -0.0030030919846123147),\n",
       " ('very', -0.0026667474997052265)]"
      ]
     },
     "execution_count": 49,
     "metadata": {},
     "output_type": "execute_result"
    }
   ],
   "source": [
    "list(sorted(diff_score.items(), key=lambda item: item[1]))[:15]"
   ]
  },
  {
   "cell_type": "code",
   "execution_count": 50,
   "id": "1cc0836b",
   "metadata": {},
   "outputs": [
    {
     "data": {
      "text/plain": [
       "[('whale', 677.862154871978),\n",
       " ('ship', 286.40505401605594),\n",
       " ('ahab', 282.5347154482714),\n",
       " ('ye', 260.97140057061466),\n",
       " ('sea', 251.57200690599507),\n",
       " ('boat', 185.7762512536579),\n",
       " ('captain', 181.90591268587337),\n",
       " ('thou', 149.83739312423003),\n",
       " ('whales', 148.17867659517952),\n",
       " ('stubb', 142.09671598866097),\n",
       " ('queequeg', 139.33218844024344),\n",
       " ('sperm', 134.9089443627754),\n",
       " ('starbuck', 109.47529091733412),\n",
       " ('deck', 108.36947989796711),\n",
       " ('pequod', 95.65265317524648)]"
      ]
     },
     "execution_count": 50,
     "metadata": {},
     "output_type": "execute_result"
    }
   ],
   "source": [
    "list(sorted(ratio_score.items(), key=lambda item: -1*item[1]))[:15]"
   ]
  },
  {
   "cell_type": "code",
   "execution_count": 51,
   "id": "422dabb7",
   "metadata": {},
   "outputs": [
    {
     "data": {
      "text/plain": [
       "[('the', 0.03208716266673298),\n",
       " ('whale', 0.00560627297318859),\n",
       " ('a', 0.0043613634537457285),\n",
       " ('his', 0.003129640939090966),\n",
       " ('this', 0.002772649404047005),\n",
       " ('in', 0.002714434217650403),\n",
       " ('that', 0.002656386384614108),\n",
       " ('s', 0.0024461889330148123),\n",
       " ('ship', 0.0023639357426391786),\n",
       " ('ahab', 0.002331878736122447),\n",
       " ('like', 0.0022755159299050654),\n",
       " ('ye', 0.0021532754141006575),\n",
       " ('sea', 0.0020754226839885953),\n",
       " ('there', 0.0019752253974883957),\n",
       " ('upon', 0.0017803294747986403)]"
      ]
     },
     "execution_count": 51,
     "metadata": {},
     "output_type": "execute_result"
    }
   ],
   "source": [
    "list(sorted(diff_score.items(), key=lambda item: -1*item[1]))[:15]"
   ]

  },
  {
   "cell_type": "code",
   "execution_count": 5,
   "id": "36d9e9da",
   "metadata": {},
   "outputs": [],
   "source": [
    "import nltk\n",
    "from nltk.corpus import shakespeare \n",
    "from nltk.corpus import XMLCorpusReader"
   ]
  },
  {
   "cell_type": "markdown",
   "id": "6f1f244c",
   "metadata": {},
   "source": [
    "Let's take a look at the file ids in the `shakespeare` corpus."
   ]
  },
  {
   "cell_type": "code",
   "execution_count": 6,
   "id": "a55ab8d2",
   "metadata": {},
   "outputs": [
    {
     "data": {
      "text/plain": [
       "['a_and_c.xml',\n",
       " 'dream.xml',\n",
       " 'hamlet.xml',\n",
       " 'j_caesar.xml',\n",
       " 'macbeth.xml',\n",
       " 'merchant.xml',\n",
       " 'othello.xml',\n",
       " 'r_and_j.xml']"
      ]
     },
     "execution_count": 6,
     "metadata": {},
     "output_type": "execute_result"
    }
   ],
   "source": [
    "shakespeare.fileids()"
   ]
  },
  {
   "cell_type": "markdown",
   "id": "11eeb6ab",
   "metadata": {},
   "source": [
    "I tried to do this in class it was a mess. Turns out that reading XML corpora in NLTK is *complicated*. The loop below took me about 20 minutes to figure out. You're going to need to change the root directory for the correct location on your machine. "
   ]
  },
  {
   "cell_type": "code",
   "execution_count": 7,
   "id": "dff380f5",
   "metadata": {},
   "outputs": [
    {
     "name": "stdout",
     "output_type": "stream",
     "text": [
      "a_and_c has 34192 tokens in it.\n",
      "dream has 21538 tokens in it.\n",
      "hamlet has 40379 tokens in it.\n",
      "j_caesar has 26058 tokens in it.\n",
      "macbeth has 22977 tokens in it.\n",
      "merchant has 27263 tokens in it.\n",
      "othello has 35092 tokens in it.\n",
      "r_and_j has 33078 tokens in it.\n"
     ]
    }
   ],
   "source": [
    "root_location = \"/users/chandler/nltk_data/corpora/shakespeare/\"\n",
    "\n",
    "for file_name in shakespeare.fileids() :\n",
    "    play_name = file_name.replace(\".xml\",\"\")\n",
    "    play = XMLCorpusReader(root=root_location,fileids=file_name)\n",
    "    \n",
    "    print(f\"{play_name} has {len(play.words())} tokens in it.\")\n",
    "    \n"
   ]
  },
  {
   "cell_type": "markdown",
   "id": "cd4fe60d",
   "metadata": {},
   "source": [
    "---\n",
    "\n",
    "And now space for you to work in your small groups. I'd like you to repeat the analysis from the Macbeth article. Normalize and tokenize your plays. Then count the number of tokens overall, the number of occurances of the word \"the\", and the fraction of words that are \"the\". \n",
    "\n",
    "If you like, feel free to `FreqDist`; that can make it much easier. Or you can do something like building a dictionary. Once you've done the \"the\" analysis, push it further by finding other words that are represented in Macbeth at much higher rates than the other plays."
   ]
  },
  {
   "cell_type": "code",
   "execution_count": null,
   "id": "451fdbed",
   "metadata": {},
   "outputs": [],
   "source": [
    "# your work here"
   ]
  }
 ],
 "metadata": {
  "kernelspec": {
   "display_name": "Python 3 (ipykernel)",
   "language": "python",
   "name": "python3"
  },
  "language_info": {
   "codemirror_mode": {
    "name": "ipython",
    "version": 3
   },
   "file_extension": ".py",
   "mimetype": "text/x-python",
   "name": "python",
   "nbconvert_exporter": "python",
   "pygments_lexer": "ipython3",
   "version": "3.8.8"
  }
 },
 "nbformat": 4,
 "nbformat_minor": 5
}
