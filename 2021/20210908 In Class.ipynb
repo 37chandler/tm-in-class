{
 "cells": [
  {
   "cell_type": "markdown",
   "id": "c20d7389",
   "metadata": {},
   "source": [
    "## Spelling Solver Solution\n",
    "\n",
    "Here are words"
   ]
  },
  {
   "cell_type": "code",
   "execution_count": 1,
   "id": "79569c2f",
   "metadata": {},
   "outputs": [],
   "source": [
    "x = 0"
   ]
  },
  {
   "cell_type": "code",
   "execution_count": 2,
   "id": "010c527d",
   "metadata": {},
   "outputs": [],
   "source": [
    "for i in range(4,25) :\n",
    "    x += 7**i\n"
   ]
  },
  {
   "cell_type": "code",
   "execution_count": 3,
   "id": "67c03c6d",
   "metadata": {},
   "outputs": [
    {
     "name": "stdout",
     "output_type": "stream",
     "text": [
      "223.51143661066084\n"
     ]
    }
   ],
   "source": [
    "print(x * 10**(-18))"
   ]
  },
  {
   "cell_type": "code",
   "execution_count": 1,
   "id": "9120e0c0",
   "metadata": {},
   "outputs": [
    {
     "ename": "NameError",
     "evalue": "name 'a' is not defined",
     "output_type": "error",
     "traceback": [
      "\u001b[0;31m---------------------------------------------------------------------------\u001b[0m",
      "\u001b[0;31mNameError\u001b[0m                                 Traceback (most recent call last)",
      "\u001b[0;32m/var/folders/5v/r5r3n8xs28vdt72b2vyqfb_r0000gn/T/ipykernel_49010/2167009006.py\u001b[0m in \u001b[0;36m<module>\u001b[0;34m\u001b[0m\n\u001b[0;32m----> 1\u001b[0;31m \u001b[0ma\u001b[0m\u001b[0;34m\u001b[0m\u001b[0;34m\u001b[0m\u001b[0m\n\u001b[0m",
      "\u001b[0;31mNameError\u001b[0m: name 'a' is not defined"
     ]
    }
   ],
   "source": [
    "a"
   ]
  },
  {
   "cell_type": "code",
   "execution_count": 6,
   "id": "29eff50b",
   "metadata": {},
   "outputs": [
    {
     "data": {
      "text/plain": [
       "10"
      ]
     },
     "execution_count": 6,
     "metadata": {},
     "output_type": "execute_result"
    }
   ],
   "source": [
    "a"
   ]
  },
  {
   "cell_type": "code",
   "execution_count": 8,
   "id": "7fcfc8fa",
   "metadata": {},
   "outputs": [
    {
     "data": {
      "text/plain": [
       "10"
      ]
     },
     "execution_count": 8,
     "metadata": {},
     "output_type": "execute_result"
    }
   ],
   "source": [
    "a"
   ]
  },
  {
   "cell_type": "code",
   "execution_count": 13,
   "id": "5323eb24",
   "metadata": {},
   "outputs": [],
   "source": [
    "one_row = \"\\t\\tA headline\\t\\t\\tAnd Another Headline\\tYet One more\\n\""
   ]
  },
  {
   "cell_type": "code",
   "execution_count": 14,
   "id": "ac5eaa75",
   "metadata": {},
   "outputs": [
    {
     "data": {
      "text/plain": [
       "['A headline', '', '', 'And Another Headline', 'Yet One more']"
      ]
     },
     "execution_count": 14,
     "metadata": {},
     "output_type": "execute_result"
    }
   ],
   "source": [
    "one_row.split(\"\\t\")"
   ]
  },
  {
   "cell_type": "code",
   "execution_count": null,
   "id": "0afb3d25",
   "metadata": {},
   "outputs": [],
   "source": []
  }
 ],
 "metadata": {
  "kernelspec": {
   "display_name": "Python 3 (ipykernel)",
   "language": "python",
   "name": "python3"
  },
  "language_info": {
   "codemirror_mode": {
    "name": "ipython",
    "version": 3
   },
   "file_extension": ".py",
   "mimetype": "text/x-python",
   "name": "python",
   "nbconvert_exporter": "python",
   "pygments_lexer": "ipython3",
   "version": "3.8.8"
  }
 },
 "nbformat": 4,
 "nbformat_minor": 5
}
