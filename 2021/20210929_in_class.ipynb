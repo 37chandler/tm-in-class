{
 "cells": [
  {
   "cell_type": "code",
   "execution_count": 1,
   "id": "36d9e9da",
   "metadata": {},
   "outputs": [],
   "source": [
    "import nltk\n",
    "from nltk.corpus import shakespeare \n",
    "from nltk.corpus import XMLCorpusReader\n",
    "\n",
    "from collections import defaultdict"
   ]
  },
  {
   "cell_type": "markdown",
   "id": "6f1f244c",
   "metadata": {},
   "source": [
    "Let's take a look at the file ids in the `shakespeare` corpus."
   ]
  },
  {
   "cell_type": "code",
   "execution_count": 2,
   "id": "a55ab8d2",
   "metadata": {},
   "outputs": [
    {
     "data": {
      "text/plain": [
       "['a_and_c.xml',\n",
       " 'dream.xml',\n",
       " 'hamlet.xml',\n",
       " 'j_caesar.xml',\n",
       " 'macbeth.xml',\n",
       " 'merchant.xml',\n",
       " 'othello.xml',\n",
       " 'r_and_j.xml']"
      ]
     },
     "execution_count": 2,
     "metadata": {},
     "output_type": "execute_result"
    }
   ],
   "source": [
    "shakespeare.fileids()"
   ]
  },
  {
   "cell_type": "markdown",
   "id": "11eeb6ab",
   "metadata": {},
   "source": [
    "I tried to do this in class it was a mess. Turns out that reading XML corpora in NLTK is *complicated*. The loop below took me about 20 minutes to figure out. You're going to need to change the root directory for the correct location on your machine. "
   ]
  },
  {
   "cell_type": "code",
   "execution_count": 3,
   "id": "dff380f5",
   "metadata": {},
   "outputs": [
    {
     "name": "stdout",
     "output_type": "stream",
     "text": [
      "a_and_c has 34192 tokens in it.\n",
      "dream has 21538 tokens in it.\n",
      "hamlet has 40379 tokens in it.\n",
      "j_caesar has 26058 tokens in it.\n",
      "macbeth has 22977 tokens in it.\n",
      "merchant has 27263 tokens in it.\n",
      "othello has 35092 tokens in it.\n",
      "r_and_j has 33078 tokens in it.\n"
     ]
    }
   ],
   "source": [
    "root_location = \"/users/chandler/nltk_data/corpora/shakespeare/\"\n",
    "\n",
    "for file_name in shakespeare.fileids() :\n",
    "    play_name = file_name.replace(\".xml\",\"\")\n",
    "    play = XMLCorpusReader(root=root_location,fileids=file_name)\n",
    "    \n",
    "    print(f\"{play_name} has {len(play.words())} tokens in it.\")\n",
    "    \n"
   ]
  },
  {
   "cell_type": "markdown",
   "id": "cd4fe60d",
   "metadata": {},
   "source": [
    "---\n",
    "\n",
    "And now space for you to work in your small groups. I'd like you to repeat the analysis from the Macbeth article. Normalize and tokenize your plays. Then count the number of tokens overall, the number of occurances of the word \"the\", and the fraction of words that are \"the\". \n",
    "\n",
    "If you like, feel free to `FreqDist`; that can make it much easier. Or you can do something like building a dictionary. Once you've done the \"the\" analysis, push it further by finding other words that are represented in Macbeth at much higher rates than the other plays."
   ]
  },
  {
   "cell_type": "code",
   "execution_count": 22,
   "id": "451fdbed",
   "metadata": {},
   "outputs": [],
   "source": [
    "root_location = \"/users/chandler/nltk_data/corpora/shakespeare/\"\n",
    "\n",
    "play_data = defaultdict(list)\n",
    "\n",
    "for file_name in shakespeare.fileids() :\n",
    "    play_name = file_name.replace(\".xml\",\"\")\n",
    "    \n",
    "    play = XMLCorpusReader(root=root_location,fileids=file_name)\n",
    "\n",
    "    play_data[play_name].append(len([w for w in play.words() if w.lower() == \"the\"]))\n",
    "    play_data[play_name].append(len([w for w in play.words() if w.isalpha()]))\n"
   ]
  },
  {
   "cell_type": "code",
   "execution_count": 17,
   "id": "5918a311",
   "metadata": {},
   "outputs": [],
   "source": [
    "root_location = \"/users/chandler/nltk_data/corpora/shakespeare/\"\n",
    "\n",
    "play_data = defaultdict(dict)\n",
    "\n",
    "for file_name in shakespeare.fileids() :\n",
    "    play_name = file_name.replace(\".xml\",\"\")\n",
    "    \n",
    "    play = XMLCorpusReader(root=root_location,fileids=file_name)\n",
    "\n",
    "    play_data[play_name]['the'] = len([w for w in play.words() if w.lower() == \"the\"])\n",
    "    play_data[play_name]['total_tokens'] = len([w for w in play.words() if w.isalpha()])\n",
    "    play_data[play_name]['the_ratio'] = play_data[play_name]['the']/play_data[play_name]['total_tokens']\n"
   ]
  },
  {
   "cell_type": "code",
   "execution_count": 18,
   "id": "57977273",
   "metadata": {},
   "outputs": [
    {
     "data": {
      "text/plain": [
       "defaultdict(dict,\n",
       "            {'a_and_c': {'the': 871,\n",
       "              'total_tokens': 27619,\n",
       "              'the_ratio': 0.03153626126941598},\n",
       "             'dream': {'the': 563,\n",
       "              'total_tokens': 17521,\n",
       "              'the_ratio': 0.0321328691284744},\n",
       "             'hamlet': {'the': 1148,\n",
       "              'total_tokens': 32838,\n",
       "              'the_ratio': 0.034959498142396},\n",
       "             'j_caesar': {'the': 610,\n",
       "              'total_tokens': 21216,\n",
       "              'the_ratio': 0.028751885369532427},\n",
       "             'macbeth': {'the': 733,\n",
       "              'total_tokens': 18729,\n",
       "              'the_ratio': 0.0391371669603289},\n",
       "             'merchant': {'the': 839,\n",
       "              'total_tokens': 22609,\n",
       "              'the_ratio': 0.03710911583882524},\n",
       "             'othello': {'the': 761,\n",
       "              'total_tokens': 28464,\n",
       "              'the_ratio': 0.026735525576166385},\n",
       "             'r_and_j': {'the': 685,\n",
       "              'total_tokens': 26583,\n",
       "              'the_ratio': 0.025768348192453824}})"
      ]
     },
     "execution_count": 18,
     "metadata": {},
     "output_type": "execute_result"
    }
   ],
   "source": [
    "play_data"
   ]
  },
  {
   "cell_type": "code",
   "execution_count": 23,
   "id": "a7e75e7e",
   "metadata": {},
   "outputs": [],
   "source": [
    "for key, value in play_data.items() :\n",
    "    play_data[key].append(value[0]/value[1])\n"
   ]
  },
  {
   "cell_type": "code",
   "execution_count": 24,
   "id": "1c729743",
   "metadata": {},
   "outputs": [
    {
     "data": {
      "text/plain": [
       "defaultdict(list,\n",
       "            {'a_and_c': [871, 27619, 0.03153626126941598],\n",
       "             'dream': [563, 17521, 0.0321328691284744],\n",
       "             'hamlet': [1148, 32838, 0.034959498142396],\n",
       "             'j_caesar': [610, 21216, 0.028751885369532427],\n",
       "             'macbeth': [733, 18729, 0.0391371669603289],\n",
       "             'merchant': [839, 22609, 0.03710911583882524],\n",
       "             'othello': [761, 28464, 0.026735525576166385],\n",
       "             'r_and_j': [685, 26583, 0.025768348192453824]})"
      ]
     },
     "execution_count": 24,
     "metadata": {},
     "output_type": "execute_result"
    }
   ],
   "source": [
    "play_data"
   ]
  },
  {
   "cell_type": "markdown",
   "id": "c7c72bcd",
   "metadata": {},
   "source": [
    "---\n",
    "\n",
    "As we discussed in class, \"lexical diversity\" is the ratio of tokens to types (unique tokens). Calculate this for each of the plays as well. "
   ]
  },
  {
   "cell_type": "code",
   "execution_count": 25,
   "id": "0d7c53a4",
   "metadata": {},
   "outputs": [],
   "source": [
    "for file_name in shakespeare.fileids() :\n",
    "    play_name = file_name.replace(\".xml\",\"\")\n",
    "    \n",
    "    play = XMLCorpusReader(root=root_location,fileids=file_name)\n",
    "    \n",
    "    tokens = [w.lower() for w in play.words() if w.isalpha()]\n",
    "    \n",
    "    play_data[play_name].append((len(set(tokens))/len(tokens))**(-1))\n",
    "\n"
   ]
  },
  {
   "cell_type": "code",
   "execution_count": 26,
   "id": "a75de10d",
   "metadata": {},
   "outputs": [
    {
     "data": {
      "text/plain": [
       "defaultdict(list,\n",
       "            {'a_and_c': [871, 27619, 0.03153626126941598, 7.331829041677728],\n",
       "             'dream': [563, 17521, 0.0321328691284744, 6.029249827942189],\n",
       "             'hamlet': [1148, 32838, 0.034959498142396, 7.228263262161568],\n",
       "             'j_caesar': [610, 21216, 0.028751885369532427, 7.593414459556191],\n",
       "             'macbeth': [733, 18729, 0.0391371669603289, 5.845505617977528],\n",
       "             'merchant': [839, 22609, 0.03710911583882524, 7.161545771301869],\n",
       "             'othello': [761, 28464, 0.026735525576166385, 7.806911684037301],\n",
       "             'r_and_j': [685, 26583, 0.025768348192453824, 7.473432667978633]})"
      ]
     },
     "execution_count": 26,
     "metadata": {},
     "output_type": "execute_result"
    }
   ],
   "source": [
    "play_data"
   ]
  },
  {
   "cell_type": "markdown",
   "id": "9b3a5cef",
   "metadata": {},
   "source": [
    "---\n",
    "\n",
    "Some Spelling Bee Solver work."
   ]
  },
  {
   "cell_type": "code",
   "execution_count": 41,
   "id": "4941ff75",
   "metadata": {},
   "outputs": [],
   "source": [
    "words = set()\n",
    "\n",
    "big_file = open('big.txt').read()\n",
    "word_file = open('words-1.txt').read()\n",
    "\n",
    "words.update([w.lower() for w in big_file.split()])\n",
    "words.update([w.lower() for w in word_file.split()])"
   ]
  },
  {
   "cell_type": "code",
   "execution_count": 51,
   "id": "4bc5139d",
   "metadata": {},
   "outputs": [],
   "source": [
    "words = {w for w in words if len(w) >= 4 and w.isalpha()}"
   ]
  },
  {
   "cell_type": "code",
   "execution_count": 13,
   "id": "99ffc828",
   "metadata": {},
   "outputs": [
    {
     "data": {
      "text/plain": [
       "264268"
      ]
     },
     "execution_count": 13,
     "metadata": {},
     "output_type": "execute_result"
    }
   ],
   "source": [
    "len(words)"
   ]
  },
  {
   "cell_type": "code",
   "execution_count": 43,
   "id": "4939554a",
   "metadata": {},
   "outputs": [],
   "source": [
    "optional_letters = \"volpna\"\n",
    "required_letter = \"i\"\n",
    "letters = optional_letters + required_letter\n",
    "letter_set = set(letters)"
   ]
  },
  {
   "cell_type": "code",
   "execution_count": 71,
   "id": "aa214c33",
   "metadata": {},
   "outputs": [],
   "source": [
    "letter_set = frozenset(letter_set)"
   ]
  },
  {
   "cell_type": "code",
   "execution_count": 72,
   "id": "2ae0df8c",
   "metadata": {},
   "outputs": [],
   "source": [
    "word2set = {}\n",
    "\n",
    "for word in words :\n",
    "    word2set[word] = frozenset(word)"
   ]
  },
  {
   "cell_type": "code",
   "execution_count": 73,
   "id": "0e0528d3",
   "metadata": {},
   "outputs": [
    {
     "name": "stdout",
     "output_type": "stream",
     "text": [
      "75.9 ms ± 847 µs per loop (mean ± std. dev. of 7 runs, 10 loops each)\n"
     ]
    }
   ],
   "source": [
    "%%timeit\n",
    "\n",
    "solutions = [w for w in words if len(word2set[w] - letter_set)==0]\n",
    "\n",
    "#for word in words :\n",
    "#    wset = set(word)\n",
    "#    if all([ch in letter_set for ch in wset]) :\n",
    "#        solutions.append(word)\n"
   ]
  },
  {
   "cell_type": "code",
   "execution_count": 74,
   "id": "c08b5c62",
   "metadata": {},
   "outputs": [
    {
     "name": "stdout",
     "output_type": "stream",
     "text": [
      "112 ms ± 2.05 ms per loop (mean ± std. dev. of 7 runs, 10 loops each)\n"
     ]
    }
   ],
   "source": [
    "%%timeit\n",
    "\n",
    "solutions = []\n",
    "\n",
    "for word in words :\n",
    "    \n",
    "    if required_letter not in word :\n",
    "        next\n",
    "    \n",
    "    good_word = True\n",
    "    for ch in word :\n",
    "        if ch not in letters :\n",
    "            good_word = False\n",
    "            \n",
    "    if good_word :\n",
    "        solutions.append(word)\n",
    "        \n",
    "# without removing main letter: 101"
   ]
  },
  {
   "cell_type": "code",
   "execution_count": 75,
   "id": "685b7fb3",
   "metadata": {},
   "outputs": [],
   "source": [
    "a = \"austin\""
   ]
  },
  {
   "cell_type": "code",
   "execution_count": 76,
   "id": "7d2e37e8",
   "metadata": {},
   "outputs": [],
   "source": [
    "b = \"autism\""
   ]
  },
  {
   "cell_type": "code",
   "execution_count": 83,
   "id": "486b5b99",
   "metadata": {},
   "outputs": [
    {
     "data": {
      "text/plain": [
       "{'a', 'i', 's', 't', 'u'}"
      ]
     },
     "execution_count": 83,
     "metadata": {},
     "output_type": "execute_result"
    }
   ],
   "source": [
    "set(a) & (set(b))"
   ]
  },
  {
   "cell_type": "code",
   "execution_count": 67,
   "id": "69a1e38a",
   "metadata": {},
   "outputs": [
    {
     "data": {
      "text/plain": [
       "['palinal',\n",
       " 'linpin',\n",
       " 'palapalai',\n",
       " 'poppa',\n",
       " 'lapillo',\n",
       " 'anonol',\n",
       " 'opinional',\n",
       " 'llano',\n",
       " 'papain',\n",
       " 'apiolin',\n",
       " 'pail',\n",
       " 'lollop',\n",
       " 'pill',\n",
       " 'anvil',\n",
       " 'lion',\n",
       " 'onion',\n",
       " 'violin',\n",
       " 'aionial',\n",
       " 'paolo',\n",
       " 'anapanapa',\n",
       " 'linin',\n",
       " 'lava',\n",
       " 'olivilin',\n",
       " 'loan',\n",
       " 'anal',\n",
       " 'palla',\n",
       " 'pavonian',\n",
       " 'nonnaval',\n",
       " 'apollo',\n",
       " 'aloin',\n",
       " 'oval',\n",
       " 'papillon',\n",
       " 'inion',\n",
       " 'livonian',\n",
       " 'pall',\n",
       " 'pianino',\n",
       " 'poppin',\n",
       " 'pipal',\n",
       " 'olona',\n",
       " 'novalia',\n",
       " 'pinna',\n",
       " 'apionol',\n",
       " 'pianola',\n",
       " 'palolo',\n",
       " 'vinal',\n",
       " 'anilao',\n",
       " 'pavlovna',\n",
       " 'ninon',\n",
       " 'lain',\n",
       " 'popal',\n",
       " 'noon',\n",
       " 'vanillon',\n",
       " 'vanillal',\n",
       " 'violon',\n",
       " 'planilla',\n",
       " 'pooli',\n",
       " 'anon',\n",
       " 'ilial',\n",
       " 'palli',\n",
       " 'napoo',\n",
       " 'appall',\n",
       " 'anana',\n",
       " 'pool',\n",
       " 'anion',\n",
       " 'palpi',\n",
       " 'anna',\n",
       " 'pallial',\n",
       " 'pillion',\n",
       " 'ovinia',\n",
       " 'vanillin',\n",
       " 'ainoi',\n",
       " 'nova',\n",
       " 'annal',\n",
       " 'palpal',\n",
       " 'napal',\n",
       " 'pallall',\n",
       " 'violanin',\n",
       " 'valval',\n",
       " 'anolian',\n",
       " 'villain',\n",
       " 'pilon',\n",
       " 'avian',\n",
       " 'papilla',\n",
       " 'anopia',\n",
       " 'plan',\n",
       " 'vain',\n",
       " 'palila',\n",
       " 'pappi',\n",
       " 'linalol',\n",
       " 'pollinia',\n",
       " 'liana',\n",
       " 'papion',\n",
       " 'vanilla',\n",
       " 'poplin',\n",
       " 'pililloo',\n",
       " 'piano',\n",
       " 'polloi',\n",
       " 'avania',\n",
       " 'opal',\n",
       " 'lapon',\n",
       " 'apoop',\n",
       " 'anoli',\n",
       " 'lanolin',\n",
       " 'linalool',\n",
       " 'palilalia',\n",
       " 'lollipop',\n",
       " 'linaloa',\n",
       " 'linolin',\n",
       " 'viii',\n",
       " 'lvovna',\n",
       " 'pippin',\n",
       " 'aalii',\n",
       " 'violina',\n",
       " 'nival',\n",
       " 'papa',\n",
       " 'vilna',\n",
       " 'villi',\n",
       " 'valva',\n",
       " 'pilapil',\n",
       " 'oliva',\n",
       " 'palpon',\n",
       " 'pinolia',\n",
       " 'papal',\n",
       " 'loop',\n",
       " 'ovolo',\n",
       " 'nopal',\n",
       " 'pinon',\n",
       " 'aponia',\n",
       " 'pollan',\n",
       " 'pinolin',\n",
       " 'pallion',\n",
       " 'poll',\n",
       " 'pavilion',\n",
       " 'lipin',\n",
       " 'linon',\n",
       " 'ivan',\n",
       " 'apollon',\n",
       " 'plain',\n",
       " 'violal',\n",
       " 'allan',\n",
       " 'viola',\n",
       " 'vill',\n",
       " 'nail',\n",
       " 'apian',\n",
       " 'alan',\n",
       " 'loanin',\n",
       " 'inial',\n",
       " 'opinion',\n",
       " 'pain',\n",
       " 'pilin',\n",
       " 'polio',\n",
       " 'valonia',\n",
       " 'analav',\n",
       " 'nonpapal',\n",
       " 'avail',\n",
       " 'anoil',\n",
       " 'nina',\n",
       " 'pinnal',\n",
       " 'alani',\n",
       " 'apiin',\n",
       " 'volva',\n",
       " 'pavan',\n",
       " 'pinion',\n",
       " 'voila',\n",
       " 'nonion',\n",
       " 'villa',\n",
       " 'olivil',\n",
       " 'ivanovna',\n",
       " 'naval',\n",
       " 'anilla',\n",
       " 'annona',\n",
       " 'nonillion',\n",
       " 'alala']"
      ]
     },
     "execution_count": 67,
     "metadata": {},
     "output_type": "execute_result"
    }
   ],
   "source": [
    "solutions"
   ]
  },
  {
   "cell_type": "markdown",
   "id": "777ac398",
   "metadata": {},
   "source": [
    "---\n",
    "\n",
    "## Some Scraping"
   ]
  },
  {
   "cell_type": "code",
   "execution_count": 18,
   "id": "cac4354f",
   "metadata": {},
   "outputs": [],
   "source": [
    "import requests  # To get the pages\n",
    "from bs4 import BeautifulSoup # and to process them"
   ]
  },
  {
   "cell_type": "code",
   "execution_count": 19,
   "id": "9f238634",
   "metadata": {},
   "outputs": [],
   "source": [
    "from bs4.element import Comment\n",
    "\n",
    "def tag_visible(element):\n",
    "    if element.parent.name in ['style', 'script', 'head', 'title', 'meta', '[document]']:\n",
    "        return False\n",
    "    if isinstance(element, Comment):\n",
    "        return False\n",
    "    return True\n"
   ]
  },
  {
   "cell_type": "code",
   "execution_count": 31,
   "id": "35a8b855",
   "metadata": {},
   "outputs": [],
   "source": [
    "r = requests.get(\"http://www.nytimes.com\")\n",
    "\n",
    "\n",
    "if r.status_code == 200 :\n",
    "    soup = BeautifulSoup(r.text, 'html.parser')\n",
    "    texts = soup.findAll(text=True)\n",
    "    visible_texts = filter(tag_visible, texts) \n"
   ]
  },
  {
   "cell_type": "code",
   "execution_count": 32,
   "id": "5d399918",
   "metadata": {},
   "outputs": [
    {
     "name": "stdout",
     "output_type": "stream",
     "text": [
      "Continue reading the main story\n",
      "Sections\n",
      "SEARCH\n",
      "Skip to content\n",
      "Skip to site index\n",
      "U.S.\n",
      "International\n",
      "Canada\n",
      "Español\n",
      "中文\n",
      "Today’s Paper\n",
      "World\n",
      "U.S.\n",
      "Politics\n",
      "N.Y.\n",
      "Business\n",
      "Opinion\n",
      "Tech\n",
      "Science\n",
      "Health\n",
      "Sports\n",
      "Arts\n",
      "Books\n",
      "Style\n",
      "Food\n",
      "Travel\n",
      "Magazine\n",
      "T Magazine\n",
      "Real Estate\n",
      "Video\n",
      "World\n",
      "U.S.\n",
      "Politics\n",
      "N.Y.\n",
      "Business\n",
      "Opinion\n",
      "Tech\n",
      "Science\n",
      "Health\n",
      "Sports\n",
      "Arts\n",
      "Books\n",
      "Style\n",
      "Food\n",
      "Travel\n",
      "Magazine\n",
      "T Magazine\n",
      "Real Estate\n",
      "Video\n",
      "Biden Struggles to Unite His Own Party Behind His Economic Agenda\n",
      "President Biden and his aides mounted an all-out effort to salvage a pair of bills containing trillions in spending on infrastructure, education and more.\n",
      "Mr. Biden canceled a scheduled trip to Chicago in order to continue talking with lawmakers during a critical week of deadlines in the House.\n",
      "Doug Mills/The New York Times\n",
      "Republicans are expected to back a bill to avert a shutdown after Democrats moved a debt limit increase into a separate bill.\n",
      "Sinema Is at the Center of It All. Some Arizonans Wish She Weren’t.\n",
      "Kyrsten Sinema, a centrist senator, is key to President Biden’s agenda in Washington. Her positions have angered some Democrats back home.\n",
      "Gas Shortages Awaken Britain to Some Crucial Workers: Truck Drivers\n",
      "Dwindling pay, poor roadside conditions and post-Brexit immigration rules have led to a shortage of drivers. Many won’t return to the job, despite appeals.\n",
      "Business and Economy Updates\n",
      "Macy’s sues to block Amazon from taking over the billboard at its Herald Square flagship.\n",
      "The world’s top central bankers see supply chain problems prolonging inflation.\n",
      "Mary Turner for The New York Times\n",
      "China Plans ‘Closed-Loop’ Bubble for Winter Olympics\n",
      "Athletes and visitors will face severe restrictions on their movement, Beijing 2022 organizers said, and a level of control never before seen at the Games.\n",
      "The Winter Olympics will open in Beijing on Feb. 4.\n",
      "Mark Schiefelbein/Associated Press\n",
      "Live\n",
      "3 minutes ago\n",
      "Coronavirus Updates\n",
      "The C.D.C. escalates its pleas for any pregnant or breastfeeding Americans to get vaccinated against Covid.\n",
      "Many health workers at big U.S. hospital chains with vaccine mandates are getting shots.\n",
      "AT&T announced that it was extending its coronavirus vaccination requirement to tens of thousands of workers.\n",
      "Tracking the Coronavirus ›\n",
      "United States ›\n",
      "United States ›\n",
      "United States\n",
      "Avg. on Sept. 28\n",
      "14-day change\n",
      "New cases\n",
      "114,395\n",
      "–26%\n",
      "New deaths\n",
      "2,026\n",
      "+7%\n",
      "U.S. hot spots ›\n",
      "Vaccinations ›\n",
      "Global hot spots ›\n",
      "Other trackers:\n",
      "Choose your own places to track\n",
      "Global vaccinations\n",
      "Alaska\n",
      "Ky.\n",
      "W.V.\n",
      "Mask mandates\n",
      "Hospitals\n",
      "Vaccine development\n",
      "Other trackers:\n",
      "Global vaccinations\n",
      "Alaska\n",
      "Ky.\n",
      "W.V.\n",
      "Mask mandates\n",
      "Hospitals\n",
      "Vaccine development\n",
      "Choose your own places to track\n",
      "Analysis: Japan’s Next Leader Offers Few Bold Solutions to Big Problems\n",
      "The country’s governing party, with a stranglehold on power, bucked the wishes of the public to select a moderate mainstay when it chose Fumio Kishida.\n",
      "Fumio Kishida Tries to Set Himself Apart\n",
      "Mr. Kishida has sought to distinguish himself from the unpopular departing prime minister, but has struggled to connect with the public.\n",
      "Kathy Hochul Aims to Raise $25 Million as Likely Rivals Eye Challenges\n",
      "Governor Hochul of New York hopes to raise the sum for her primary campaign next year, but her recent ascension has left her little time to hit that goal.\n",
      "Live\n",
      "Britney Spears Conservatorship Hearing Is Underway\n",
      "A judge may consider whether the singer’s father should be removed as conservator, and whether the arrangement should end entirely. Follow updates here.\n",
      "Supporters of Britney Spears gathered outside the courthouse.\n",
      "Alex Welsh for The New York Times\n",
      "How an 11-Foot-Tall 3-D Printer Is Helping to Create a Community\n",
      "Three-dimensional printing can create nearly any object. A partnership in Mexico is testing that theory by building a village for poor residents.\n",
      "Alejandro Cegarra for The New York Times\n",
      "The Great Read\n",
      "Why Is Every Young Person in America Watching ‘The Sopranos’?\n",
      "The show’s new audience is also seeing something different in it: a parable about a country in terminal decline.\n",
      "Illustration by Juliette Toma\n",
      "Opinion\n",
      "Robert Wexler\n",
      "For Progressives, Iron Dome Isn’t the Issue. It’s Israel Itself.\n",
      "Thomas B. Edsall\n",
      "How Much Does How Much We Hate Each Other Matter?\n",
      "‘The Argument’\n",
      "What A Sex Worker and Anti-Trafficker Want You To Know About Porn Bans\n",
      "Heather Boushey\n",
      "I’m One of Biden’s Advisers. Here’s How I Think About His Economic Agenda.\n",
      "Mara Gay\n",
      "‘If You’re Not Vaccinated, Don’t Come to Work’\n",
      "Roxane Gay\n",
      "The World Expects Black Men to Make Themselves Smaller. My Brother Never Did.\n",
      "David Daley\n",
      "Voters Had Their Say. Partisans Ignored Them.\n",
      "Jeremy Bearer-Friend and Vanessa Williamson\n",
      "The I.R.S. Can Register Voters Just as Well as the D.M.V. Maybe Better.\n",
      "Sara Clemence\n",
      "My Fellow Americans, Let’s Be Better Tourists\n",
      "Peter Coy\n",
      "Why Are Fast Food Workers Signing Noncompete Agreements?\n",
      "Memo to Democrats: ‘Grow Up. Do Your Job.’\n",
      "Spencer Bokat-Lindell\n",
      "Biden Is Taking a Page Out of Trump’s Immigration Playbook\n",
      "Ben Proudfoot\n",
      "In a Galaxy Far, Far Away, He Was Almost Anakin Skywalker\n",
      "Paul Krugman\n",
      "Think of Mitch McConnell as a New Jersey Shark\n",
      "Take a Break\n",
      "Nicola Dove/Metro-Goldwyn-Mayer Studios\n",
      "‘No Time to Die’ Review: His Word Is His Bond\n",
      "The 25th episode in the venerable franchise — and Daniel Craig’s last as 007 — finds its hero in a somber mood.\n",
      "How My Phone’s Most Annoying Feature Saved My Life\n",
      "When the Times Book Review Panned the Classics\n",
      "Advertisement\n",
      "Continue reading the main story\n",
      "The Morning\n",
      "We examine why Democrats may scrap some of the most popular parts of their agenda.\n",
      "Listen to ‘The Daily’\n",
      "On new details about Britney Spears’s invasive conservatorship.\n",
      "Virtual Event: Making Crypto Green\n",
      "On Oct. 5, Andrew Ross Sorkin and DealBook explore digital currency’s sustainability.\n",
      "Opinion\n",
      "Listen to ‘Sway’\n",
      "Beto O’Rourke talks about Democrats’ prospects in Texas and a potential run for governor.\n",
      "More News\n",
      "Reduced to Rubble, an Afghan Village Struggles to Rebuild\n",
      "A small village outside Ghazni city found itself on a critical supply artery in war-torn Afghanistan. It paid a heavy price.\n",
      "Arzo, Afghanistan\n",
      "Jim Huylebroek for The New York Times\n",
      "Arzo, Afghanistan\n",
      "Victor J. Blue for The New York Times\n",
      "Arzo, Afghanistan\n",
      "Jim Huylebroek for The New York Times\n",
      "Arzo, Afghanistan\n",
      "Jim Huylebroek for The New York Times\n",
      "Arzo, Afghanistan\n",
      "Victor J. Blue for The New York Times\n",
      "Talk of Iraq Recognizing Israel Prompts Threats of Arrest or Death\n",
      "A conference promoting normalization, organized by a little-known American group, prompted a furor, pointing to the volatility in Iraqi politics.\n",
      "La Palma Volcano Lava Hits Ocean, Creating Toxic Gas Risks\n",
      "The authorities told residents of the Spanish island to keep their windows shut, warning of powerful chemical reactions as molten rock meets seawater.\n",
      "TikTok Wants More Ad Dollars, and It Has a New Plan to Get Them\n",
      "In a quest for more revenue, the app known for short videos is trying to make it easier to match its stars with brands.\n",
      "Biden Administration Restores Bird Protections, Repealing Trump Rule\n",
      "N.Y. Bishop to Retire After Vatican Clears Him of Sexual Abuse\n",
      "Tropical Storm Victor Forms in Eastern Atlantic\n",
      "Petito Case Led to Finding Missing Man in Wyoming, Officials Say\n",
      "Daintree Forest in Australia Is Returned to Indigenous Owners\n",
      "Star Journalist Quits at Ozy, and an Investor Backs Away\n",
      "Advertisement\n",
      "Continue reading the main story\n",
      "Health and Nutrition\n",
      "Aileen Son for The New York Times\n",
      "How Alcohol May Affect Your Heart Rate\n",
      "Paul Rogers\n",
      "Is It Time to Give Up on Fish Oil?\n",
      "Tony Cenicola/The New York Times\n",
      "Do Pesticides Get Into the Flesh of Fruits and Vegetables?\n",
      "Getty Images\n",
      "A Low-Carb Diet May Help Your Heart Health\n",
      "Hana Asano for The New York Times\n",
      "Your Blood Sugar May Be Undermining Your Workouts\n",
      "Culture and Lifestyle\n",
      "Kelly Marshall for The New York Times\n",
      "What the Food We Cook Reveals About Us\n",
      "In her new monthly column, Yewande Komolafe returns to the food of West Africa to examine how it shaped her cooking and her idea of home.\n",
      "Google\n",
      "The Melting Face Emoji Has Already Won Us Over\n",
      "Of the 37 new emojis approved this year, one has stood out as a visual proxy for our collective malaise.\n",
      "Josefina Santos for The New York Times\n",
      "Jim Jarmusch’s Collages Are Ready for Their Close-Up\n",
      "The filmmaker has been quietly making eerie collages on newsprint for 20 years, with faces switched onto other bodies. Now they’re finally on view.\n",
      "Nathaniel Russell\n",
      "Kevin Young’s Latest Poems Are at Play Among the Dead\n",
      "“Stones” is about family, death and how families absorb and repurpose loss; the stones here bear names and life spans.\n",
      "Jeff Curry/USA Today Sports, via Reuters\n",
      "With 17th Straight Win, the Cardinals Are in Elite Company\n",
      "An outrageous stretch of success allowed St. Louis to snatch the National League’s second wild-card spot. Can it keep going?\n",
      "New York Times Cooking\n",
      "David Malosh for The New York Times\n",
      "Roasted Mushroom Larb\n",
      "Johnny Miller for The New York Times\n",
      "Oatmeal Chocolate Chip Cookies\n",
      "David Malosh for The New York Times\n",
      "Skillet Pork Chops With Blistered Grapes\n",
      "Kate Sears for The New York Times\n",
      "Singapore Noodles With Charred Scallions\n",
      "Julia Gartland for The New York Times\n",
      "Muffuletta\n",
      "Advertisement\n",
      "Continue reading the main story\n",
      "Recommendations From Wirecutter\n",
      "Your Toaster Will Eventually Fail You\n",
      "We wanted to understand why. So naturally, we turned to scanning electron microscopy and energy dispersive X-ray spectroscopy.\n",
      "The Best Pencil\n",
      "Our pick is also one of the least expensive pencils we tested.\n",
      "Learn More About Wirecutter\n",
      "The Times’s product recommendation service tests thousands of items each year to help you find the best of everything.\n",
      "Coffee Subscriptions We Love\n",
      "Eight great recommendations from Wirecutter’s obsessive staff.\n",
      "Michael Murtaugh\n",
      "Play\n",
      "Spelling Bee\n",
      "How many words can you make with 7 letters?\n",
      "The Crossword\n",
      "Get clued in with wordplay, every day.\n",
      "New York Times Games\n",
      "Subscribe for full access to The Crossword, The Mini, Spelling Bee and more.\n",
      "Letter Boxed\n",
      "Create words using letters around the square.\n",
      "Tiles\n",
      "Match visual elements and keep your chain going.\n",
      "Vertex\n",
      "Connect the dots to reveal the hidden picture.\n",
      "We’d like your thoughts on the New York Times home page experience.\n",
      "Let us know what you think\n",
      "Site Index\n",
      "Site Information Navigation\n",
      "©\n",
      "2021\n",
      "The New York Times Company\n",
      "NYTCo\n",
      "Contact Us\n",
      "Accessibility\n",
      "Work with us\n",
      "Advertise\n",
      "T Brand Studio\n",
      "Your Ad Choices\n",
      "Privacy Policy\n",
      "Terms of Service\n",
      "Terms of Sale\n",
      "Site Map\n",
      "Canada\n",
      "International\n",
      "Help\n",
      "Subscriptions\n"
     ]
    }
   ],
   "source": [
    "for t in visible_texts :\n",
    "    if t.strip() :\n",
    "        print(t.strip())"
   ]
  },
  {
   "cell_type": "code",
   "execution_count": null,
   "id": "e9d96d7f",
   "metadata": {},
   "outputs": [],
   "source": []
  }
 ],
 "metadata": {
  "kernelspec": {
   "display_name": "Python 3 (ipykernel)",
   "language": "python",
   "name": "python3"
  },
  "language_info": {
   "codemirror_mode": {
    "name": "ipython",
    "version": 3
   },
   "file_extension": ".py",
   "mimetype": "text/x-python",
   "name": "python",
   "nbconvert_exporter": "python",
   "pygments_lexer": "ipython3",
   "version": "3.8.8"
  }
 },
 "nbformat": 4,
 "nbformat_minor": 5
}
