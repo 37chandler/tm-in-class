{
 "cells": [
  {
   "cell_type": "code",
   "execution_count": null,
   "id": "9d5cab2b",
   "metadata": {},
   "outputs": [],
   "source": [
    "import sqlite3\n",
    "from collections import defaultdict\n",
    "\n",
    "import nltk"
   ]
  },
  {
   "cell_type": "code",
   "execution_count": null,
   "id": "ce467acb",
   "metadata": {},
   "outputs": [],
   "source": [
    "tweets = []\n",
    "\n",
    "with open(\"vaping_tweets.csv\") as tweet_file :\n",
    "    next(tweet_file)\n",
    "    tweets = [tweet.strip() for tweet in tweet_file.readlines()]"
   ]
  },
  {
   "cell_type": "code",
   "execution_count": null,
   "id": "4288c1be",
   "metadata": {},
   "outputs": [],
   "source": [
    "for tweet in tweets : \n",
    "    if 'nicstic' in tweet :\n",
    "        print(tweet)"
   ]
  },
  {
   "cell_type": "code",
   "execution_count": null,
   "id": "2ebb1c3c",
   "metadata": {},
   "outputs": [],
   "source": [
    "num_tweets = 0\n",
    "\n",
    "for tweet in tweets : \n",
    "    if 'mango' in tweet :\n",
    "#        print(tweet)\n",
    "        num_tweets += 1\n",
    "        \n",
    "        \n",
    "num_tweets"
   ]
  },
  {
   "cell_type": "code",
   "execution_count": null,
   "id": "02d815e8",
   "metadata": {},
   "outputs": [],
   "source": [
    "num_tweets = 0\n",
    "\n",
    "for tweet in tweets : \n",
    "    if 'bathrooms' in tweet :\n",
    "        print(tweet)\n",
    "        num_tweets += 1\n",
    "        \n"
   ]
  },
  {
   "cell_type": "code",
   "execution_count": null,
   "id": "e91808bd",
   "metadata": {},
   "outputs": [],
   "source": [
    "num_tweets"
   ]
  },
  {
   "cell_type": "code",
   "execution_count": null,
   "id": "2cb02504",
   "metadata": {},
   "outputs": [],
   "source": []
  },
  {
   "cell_type": "code",
   "execution_count": null,
   "id": "0ac80c4e",
   "metadata": {},
   "outputs": [],
   "source": []
  },
  {
   "cell_type": "code",
   "execution_count": null,
   "id": "eeb0069a",
   "metadata": {},
   "outputs": [],
   "source": []
  },
  {
   "cell_type": "code",
   "execution_count": null,
   "id": "ec9ee96c",
   "metadata": {},
   "outputs": [],
   "source": []
  },
  {
   "cell_type": "code",
   "execution_count": null,
   "id": "b444d7a6",
   "metadata": {},
   "outputs": [],
   "source": []
  },
  {
   "cell_type": "code",
   "execution_count": null,
   "id": "3a82bbbb",
   "metadata": {},
   "outputs": [],
   "source": []
  },
  {
   "cell_type": "code",
   "execution_count": null,
   "id": "385744fb",
   "metadata": {},
   "outputs": [],
   "source": [
    "bathroom_tweets = [t for t in tweets if \"bathroom\" in t]\n",
    "non_bathroom_tweets = [t for t in tweets if \"bathroom\" not in t]\n",
    "\n"
   ]
  },
  {
   "cell_type": "code",
   "execution_count": null,
   "id": "43019bbe",
   "metadata": {},
   "outputs": [],
   "source": [
    "b_fd = nltk.FreqDist(\" \".join(bathroom_tweets).split())\n",
    "nb_fd = nltk.FreqDist(\" \".join(non_bathroom_tweets).split())"
   ]
  },
  {
   "cell_type": "code",
   "execution_count": null,
   "id": "389176e6",
   "metadata": {},
   "outputs": [],
   "source": [
    "b_len = sum([c for w,c in b_fd.items()])\n",
    "nb_len = sum([c for w,c in nb_fd.items()])"
   ]
  },
  {
   "cell_type": "code",
   "execution_count": null,
   "id": "82ec2a97",
   "metadata": {},
   "outputs": [],
   "source": [
    "\n",
    "b_concentration = dict()\n",
    "\n",
    "for word,count in b_fd.items() : \n",
    "    b_concentration[word] = count/b_len\n",
    "    "
   ]
  },
  {
   "cell_type": "code",
   "execution_count": null,
   "id": "d23ec649",
   "metadata": {},
   "outputs": [],
   "source": [
    "\n",
    "nb_concentration = dict()\n",
    "\n",
    "for word,count in nb_fd.items() : \n",
    "    nb_concentration[word] = count/nb_len\n",
    "    "
   ]
  },
  {
   "cell_type": "code",
   "execution_count": null,
   "id": "16bed232",
   "metadata": {},
   "outputs": [],
   "source": [
    "b_ratio = dict()\n",
    "\n",
    "for word in b_concentration :\n",
    "    \n",
    "    if 5 > b_fd[word] or 5 > nb_fd[word] : \n",
    "        continue\n",
    "        \n",
    "    b_ratio[word] = b_concentration[word]/nb_concentration[word]\n",
    "\n",
    "\n"
   ]
  },
  {
   "cell_type": "code",
   "execution_count": null,
   "id": "5a4f953a",
   "metadata": {},
   "outputs": [],
   "source": [
    "sorted(b_ratio.items(), key=lambda item: item[1],reverse=True)\n",
    "\n"
   ]
  },
  {
   "cell_type": "code",
   "execution_count": null,
   "id": "7d3a9a41",
   "metadata": {},
   "outputs": [],
   "source": []
  },
  {
   "cell_type": "code",
   "execution_count": null,
   "id": "b12d2b50",
   "metadata": {},
   "outputs": [],
   "source": []
  },
  {
   "cell_type": "code",
   "execution_count": null,
   "id": "52c2b559",
   "metadata": {},
   "outputs": [],
   "source": [
    "len(school_tweets)"
   ]
  },
  {
   "cell_type": "code",
   "execution_count": null,
   "id": "a671e7cd",
   "metadata": {},
   "outputs": [],
   "source": [
    "len(non_school_tweets)"
   ]
  },
  {
   "cell_type": "markdown",
   "id": "863c0c4b",
   "metadata": {},
   "source": [
    "Or, alternatively, we could work with the convention data. "
   ]
  },
  {
   "cell_type": "code",
   "execution_count": null,
   "id": "1fa39d67",
   "metadata": {},
   "outputs": [],
   "source": [
    "db = sqlite3.connect(\"ConventionSpeeches.db\")\n",
    "cur = db.cursor()"
   ]
  },
  {
   "cell_type": "code",
   "execution_count": null,
   "id": "5f5e4c0d",
   "metadata": {},
   "outputs": [],
   "source": [
    "cur.execute(\"SELECT party, text FROM conventions WHERE year IN (2016,2020)\")"
   ]
  },
  {
   "cell_type": "code",
   "execution_count": null,
   "id": "08d5793b",
   "metadata": {},
   "outputs": [],
   "source": [
    "convention_speeches = defaultdict(str)\n",
    "\n",
    "for row in cur.fetchall() :\n",
    "    party, text = row \n",
    "    convention_speeches[party] += text + \" \"\n"
   ]
  },
  {
   "cell_type": "code",
   "execution_count": null,
   "id": "0c52134f",
   "metadata": {},
   "outputs": [],
   "source": [
    "print(len(convention_speeches['Republican'].split()))\n",
    "print(len(convention_speeches['Democratic'].split()))"
   ]
  },
  {
   "cell_type": "code",
   "execution_count": null,
   "id": "285d0e79",
   "metadata": {},
   "outputs": [],
   "source": [
    "repub_fd = nltk.FreqDist([w.lower() for w in convention_speeches['Republican'].split()])\n",
    "democ_fd = nltk.FreqDist([w.lower() for w in convention_speeches['Democratic'].split()])"
   ]
  },
  {
   "cell_type": "code",
   "execution_count": null,
   "id": "a2dfa13e",
   "metadata": {},
   "outputs": [],
   "source": [
    "repub_fd.most_common(10)"
   ]
  },
  {
   "cell_type": "code",
   "execution_count": null,
   "id": "6a7c5fe5",
   "metadata": {},
   "outputs": [],
   "source": [
    "democ_fd.most_common(10)"
   ]
  },
  {
   "cell_type": "code",
   "execution_count": null,
   "id": "5752b360",
   "metadata": {},
   "outputs": [],
   "source": [
    "repub_len = 0 \n",
    "\n",
    "for item in repub_fd.items() :\n",
    "    word, count = item\n",
    "    \n",
    "    repub_len = repub_len + count\n"
   ]
  },
  {
   "cell_type": "code",
   "execution_count": null,
   "id": "a67a0644",
   "metadata": {},
   "outputs": [],
   "source": [
    "democ_len = 0 \n",
    "\n",
    "for item in repub_fd.items() :\n",
    "    word, count = item\n",
    "    \n",
    "    democ_len = democ_len + count\n"
   ]
  },
  {
   "cell_type": "code",
   "execution_count": null,
   "id": "30c54fd6",
   "metadata": {},
   "outputs": [],
   "source": [
    "sum([count for word,count in repub_fd.items()])"
   ]
  },
  {
   "cell_type": "code",
   "execution_count": null,
   "id": "49a036a6",
   "metadata": {},
   "outputs": [],
   "source": [
    "[word for word,count in repub_fd.items() if len(word) <= 3]"
   ]
  },
  {
   "cell_type": "code",
   "execution_count": null,
   "id": "296ea466",
   "metadata": {},
   "outputs": [],
   "source": [
    "repub_concentration = defaultdict(float)\n",
    "\n",
    "\n",
    "for word, count in repub_fd.items() : \n",
    "    repub_concentration[word] = count/repub_len\n",
    "    \n"
   ]
  },
  {
   "cell_type": "code",
   "execution_count": null,
   "id": "4ca283d1",
   "metadata": {},
   "outputs": [],
   "source": [
    "democ_concentration = defaultdict(float)\n",
    "\n",
    "\n",
    "for word, count in democ_fd.items() : \n",
    "    democ_concentration[word] = count/democ_len\n",
    "    "
   ]
  },
  {
   "cell_type": "code",
   "execution_count": null,
   "id": "4b813249",
   "metadata": {},
   "outputs": [],
   "source": [
    "repub_ratio = dict()\n",
    "\n",
    "for word in repub_concentration :\n",
    "    \n",
    "    if 5 > repub_fd[word] or 5 > democ_fd[word] : \n",
    "        continue\n",
    "        \n",
    "    repub_ratio[word] = repub_concentration[word]/democ_concentration[word]\n",
    "\n",
    "\n"
   ]
  },
  {
   "cell_type": "code",
   "execution_count": null,
   "id": "8e000d8b",
   "metadata": {},
   "outputs": [],
   "source": [
    "sorted(repub_ratio.items(), key=lambda item: item[1],reverse=True)\n",
    "\n"
   ]
  },
  {
   "cell_type": "code",
   "execution_count": null,
   "id": "8c25fcdf",
   "metadata": {},
   "outputs": [],
   "source": [
    "democ_ratio = dict()\n",
    "\n",
    "for word in democ_concentration :\n",
    "    \n",
    "    if 3 > repub_fd[word] or 3 > democ_fd[word] : \n",
    "        continue\n",
    "        \n",
    "    democ_ratio[word] = democ_concentration[word]/repub_concentration[word]\n",
    "\n",
    "\n"
   ]
  },
  {
   "cell_type": "code",
   "execution_count": null,
   "id": "44ac31b8",
   "metadata": {},
   "outputs": [],
   "source": [
    "c"
   ]
  },
  {
   "cell_type": "code",
   "execution_count": null,
   "id": "7170d7b5",
   "metadata": {},
   "outputs": [],
   "source": [
    "repub_fd['climate']"
   ]
  },
  {
   "cell_type": "code",
   "execution_count": null,
   "id": "856baf59",
   "metadata": {},
   "outputs": [],
   "source": [
    "repub_concentration['the']"
   ]
  },
  {
   "cell_type": "code",
   "execution_count": null,
   "id": "e598ce28",
   "metadata": {},
   "outputs": [],
   "source": [
    "democ_concentration['the']"
   ]
  },
  {
   "cell_type": "code",
   "execution_count": null,
   "id": "c084a18f",
   "metadata": {},
   "outputs": [],
   "source": [
    "repub_concentration['the']/democ_concentration['the']"
   ]
  },
  {
   "cell_type": "code",
   "execution_count": null,
   "id": "bc44259a",
   "metadata": {},
   "outputs": [],
   "source": [
    "count"
   ]
  },
  {
   "cell_type": "code",
   "execution_count": null,
   "id": "74c5dc5f",
   "metadata": {},
   "outputs": [],
   "source": [
    "count/repub_len"
   ]
  },
  {
   "cell_type": "code",
   "execution_count": null,
   "id": "8267f9c1",
   "metadata": {},
   "outputs": [],
   "source": [
    "6/repub_len"
   ]
  },
  {
   "cell_type": "code",
   "execution_count": null,
   "id": "5e985b75",
   "metadata": {},
   "outputs": [],
   "source": []
  }
 ],
 "metadata": {
  "kernelspec": {
   "display_name": "Python 3 (ipykernel)",
   "language": "python",
   "name": "python3"
  },
  "language_info": {
   "codemirror_mode": {
    "name": "ipython",
    "version": 3
   },
   "file_extension": ".py",
   "mimetype": "text/x-python",
   "name": "python",
   "nbconvert_exporter": "python",
   "pygments_lexer": "ipython3",
   "version": "3.8.8"
  }
 },
 "nbformat": 4,
 "nbformat_minor": 5
}
