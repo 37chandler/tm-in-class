{
 "cells": [
  {
   "cell_type": "markdown",
   "id": "05fab87c",
   "metadata": {},
   "source": [
    "## Spelling Bee Solver\n",
    "\n",
    "Using two word lists (`big.txt` and `words-1.txt`), an initial set of letters, and a designated center letter, come up with all words that only use letters from the list and require the center letter. The big file has lots of words that Spelling Bee probably won't accept, but it seems worthwhile to cast a wide net since we don't know how accurate `words-1` is."
   ]
  },
  {
   "cell_type": "code",
   "execution_count": 4,
   "id": "8825febc",
   "metadata": {},
   "outputs": [],
   "source": [
    "words = set()\n",
    "\n",
    "big_file = open('big.txt').read().lower()\n",
    "word_file = open('words-1.txt').read().lower()"
   ]
  },
  {
   "cell_type": "code",
   "execution_count": 5,
   "id": "e280c5a3",
   "metadata": {},
   "outputs": [],
   "source": [
    "for token in big_file.split() :\n",
    "    if token.isalpha() and len(token) > 3 :\n",
    "        words.add(token)"
   ]
  },
  {
   "cell_type": "code",
   "execution_count": 7,
   "id": "7275da04",
   "metadata": {},
   "outputs": [],
   "source": [
    "for token in word_file.split() :\n",
    "    if token.isalpha() and len(token) > 3 :\n",
    "        words.add(token)"
   ]
  },
  {
   "cell_type": "code",
   "execution_count": 9,
   "id": "0fd18228",
   "metadata": {},
   "outputs": [
    {
     "data": {
      "text/plain": [
       "215728"
      ]
     },
     "execution_count": 9,
     "metadata": {},
     "output_type": "execute_result"
    }
   ],
   "source": [
    "len(words)"
   ]
  },
  {
   "cell_type": "code",
   "execution_count": 10,
   "id": "6bbdc2ed",
   "metadata": {},
   "outputs": [],
   "source": [
    "\n",
    "optional_letters = \"huckig\"\n",
    "required_letter = \"n\"\n",
    "letters = optional_letters + required_letter\n",
    "letter_set = set(letters)"
   ]
  },
  {
   "cell_type": "code",
   "execution_count": 11,
   "id": "dc1a9521",
   "metadata": {},
   "outputs": [
    {
     "data": {
      "text/plain": [
       "{'c', 'g', 'h', 'i', 'k', 'n', 'u'}"
      ]
     },
     "execution_count": 11,
     "metadata": {},
     "output_type": "execute_result"
    }
   ],
   "source": [
    "letter_set"
   ]
  },
  {
   "cell_type": "code",
   "execution_count": 12,
   "id": "680401fc",
   "metadata": {},
   "outputs": [],
   "source": [
    "solutions = set()\n",
    "\n",
    "# Fill in the solutions list with words that *only* have letters from our letter set\n",
    "# and all must include the required_letter\n",
    "\n",
    "for word in words :\n",
    "    if required_letter in word :\n",
    "        good_word = True\n",
    "        \n",
    "        for char in word :\n",
    "            if char not in letter_set :\n",
    "                good_word = False\n",
    "                break\n",
    "                \n",
    "        if good_word :\n",
    "            solutions.add(word)\n"
   ]
  },
  {
   "cell_type": "code",
   "execution_count": 13,
   "id": "aaf5f972",
   "metadata": {},
   "outputs": [
    {
     "data": {
      "text/plain": [
       "['chin',\n",
       " 'chinch',\n",
       " 'chinching',\n",
       " 'ching',\n",
       " 'chinik',\n",
       " 'chinin',\n",
       " 'chink',\n",
       " 'chinking',\n",
       " 'chucking',\n",
       " 'chunk',\n",
       " 'cinch',\n",
       " 'cnicin',\n",
       " 'cunning',\n",
       " 'gigunu',\n",
       " 'ginning',\n",
       " 'gunning',\n",
       " 'gunnung',\n",
       " 'hinch',\n",
       " 'hugging',\n",
       " 'hunch',\n",
       " 'hunching',\n",
       " 'hung',\n",
       " 'icing',\n",
       " 'inch',\n",
       " 'inning',\n",
       " 'kicking',\n",
       " 'kinch',\n",
       " 'kinchin',\n",
       " 'king',\n",
       " 'kinnikinnick',\n",
       " 'knick',\n",
       " 'nick',\n",
       " 'nicking',\n",
       " 'nigh',\n",
       " 'nucin',\n",
       " 'nunch',\n",
       " 'nunni',\n",
       " 'uncinch',\n",
       " 'uncini',\n",
       " 'uncunning',\n",
       " 'unhigh',\n",
       " 'unhung',\n",
       " 'uninn',\n",
       " 'unkin',\n",
       " 'unking',\n",
       " 'unkink',\n",
       " 'unnigh']"
      ]
     },
     "execution_count": 13,
     "metadata": {},
     "output_type": "execute_result"
    }
   ],
   "source": [
    "sorted(list(solutions))"
   ]
  },
  {
   "cell_type": "code",
   "execution_count": 18,
   "id": "c32140eb",
   "metadata": {},
   "outputs": [],
   "source": [
    "solutions = set()\n",
    "\n",
    "for word in words :\n",
    "    if required_letter in word :\n",
    "        word_set = set(word)\n",
    "        \n",
    "        if len(word_set - letter_set) == 0 :\n",
    "            solutions.add(word)\n"
   ]
  },
  {
   "cell_type": "code",
   "execution_count": 29,
   "id": "e3d3e109",
   "metadata": {},
   "outputs": [
    {
     "data": {
      "text/plain": [
       "['chin',\n",
       " 'chinch',\n",
       " 'chinching',\n",
       " 'ching',\n",
       " 'chinik',\n",
       " 'chinin',\n",
       " 'chink',\n",
       " 'chinking',\n",
       " 'chucking',\n",
       " 'chunk',\n",
       " 'cinch',\n",
       " 'cnicin',\n",
       " 'cunning',\n",
       " 'gigunu',\n",
       " 'ginning',\n",
       " 'gunning',\n",
       " 'gunnung',\n",
       " 'hinch',\n",
       " 'hugging',\n",
       " 'hunch',\n",
       " 'hunching',\n",
       " 'hung',\n",
       " 'icing',\n",
       " 'inch',\n",
       " 'inning',\n",
       " 'kicking',\n",
       " 'kinch',\n",
       " 'kinchin',\n",
       " 'king',\n",
       " 'kinnikinnick',\n",
       " 'knick',\n",
       " 'nick',\n",
       " 'nicking',\n",
       " 'nigh',\n",
       " 'nucin',\n",
       " 'nunch',\n",
       " 'nunni',\n",
       " 'uncinch',\n",
       " 'uncini',\n",
       " 'uncunning',\n",
       " 'unhigh',\n",
       " 'unhung',\n",
       " 'uninn',\n",
       " 'unkin',\n",
       " 'unking',\n",
       " 'unkink',\n",
       " 'unnigh']"
      ]
     },
     "execution_count": 29,
     "metadata": {},
     "output_type": "execute_result"
    }
   ],
   "source": [
    "sorted((solutions))"
   ]
  },
  {
   "cell_type": "code",
   "execution_count": 17,
   "id": "7c8b1267",
   "metadata": {},
   "outputs": [
    {
     "data": {
      "text/plain": [
       "{' ', 'a', 'd', 'e', 'j', 'l', 'o', 'r'}"
      ]
     },
     "execution_count": 17,
     "metadata": {},
     "output_type": "execute_result"
    }
   ],
   "source": [
    "word_set_2 - letter_set"
   ]
  },
  {
   "cell_type": "code",
   "execution_count": 20,
   "id": "6c750d8e",
   "metadata": {},
   "outputs": [],
   "source": [
    "solutions = set()\n",
    "\n",
    "for word in words :\n",
    "    if required_letter in word :\n",
    "        word_set = set(word)\n",
    "        \n",
    "        if word_set.issubset(letter_set) :\n",
    "            solutions.add(word)\n"
   ]
  },
  {
   "cell_type": "code",
   "execution_count": 22,
   "id": "77227339",
   "metadata": {},
   "outputs": [
    {
     "data": {
      "text/plain": [
       "['chin',\n",
       " 'chinch',\n",
       " 'chinching',\n",
       " 'ching',\n",
       " 'chinik',\n",
       " 'chinin',\n",
       " 'chink',\n",
       " 'chinking',\n",
       " 'chucking',\n",
       " 'chunk',\n",
       " 'cinch',\n",
       " 'cnicin',\n",
       " 'cunning',\n",
       " 'gigunu',\n",
       " 'ginning',\n",
       " 'gunning',\n",
       " 'gunnung',\n",
       " 'hinch',\n",
       " 'hugging',\n",
       " 'hunch',\n",
       " 'hunching',\n",
       " 'hung',\n",
       " 'icing',\n",
       " 'inch',\n",
       " 'inning',\n",
       " 'kicking',\n",
       " 'kinch',\n",
       " 'kinchin',\n",
       " 'king',\n",
       " 'kinnikinnick',\n",
       " 'knick',\n",
       " 'nick',\n",
       " 'nicking',\n",
       " 'nigh',\n",
       " 'nucin',\n",
       " 'nunch',\n",
       " 'nunni',\n",
       " 'uncinch',\n",
       " 'uncini',\n",
       " 'uncunning',\n",
       " 'unhigh',\n",
       " 'unhung',\n",
       " 'uninn',\n",
       " 'unkin',\n",
       " 'unking',\n",
       " 'unkink',\n",
       " 'unnigh']"
      ]
     },
     "execution_count": 22,
     "metadata": {},
     "output_type": "execute_result"
    }
   ],
   "source": [
    "sorted(list(solutions))"
   ]
  },
  {
   "cell_type": "code",
   "execution_count": 23,
   "id": "63c697d4",
   "metadata": {},
   "outputs": [
    {
     "data": {
      "text/plain": [
       "{'c', 'g', 'h', 'i', 'k', 'n', 'u'}"
      ]
     },
     "execution_count": 23,
     "metadata": {},
     "output_type": "execute_result"
    }
   ],
   "source": [
    "word_set_1"
   ]
  },
  {
   "cell_type": "code",
   "execution_count": 24,
   "id": "6f9ea475",
   "metadata": {},
   "outputs": [
    {
     "data": {
      "text/plain": [
       "{' ', 'a', 'c', 'd', 'e', 'h', 'j', 'l', 'n', 'o', 'r'}"
      ]
     },
     "execution_count": 24,
     "metadata": {},
     "output_type": "execute_result"
    }
   ],
   "source": [
    "word_set_2"
   ]
  },
  {
   "cell_type": "code",
   "execution_count": 28,
   "id": "5e379e5f",
   "metadata": {},
   "outputs": [
    {
     "data": {
      "text/plain": [
       "{'g', 'i', 'k', 'u'}"
      ]
     },
     "execution_count": 28,
     "metadata": {},
     "output_type": "execute_result"
    }
   ],
   "source": [
    "word_set_1.difference(word_set_2)"
   ]
  },
  {
   "cell_type": "code",
   "execution_count": null,
   "id": "eb2a7c71",
   "metadata": {},
   "outputs": [],
   "source": []
  }
 ],
 "metadata": {
  "kernelspec": {
   "display_name": "Python 3 (ipykernel)",
   "language": "python",
   "name": "python3"
  },
  "language_info": {
   "codemirror_mode": {
    "name": "ipython",
    "version": 3
   },
   "file_extension": ".py",
   "mimetype": "text/x-python",
   "name": "python",
   "nbconvert_exporter": "python",
   "pygments_lexer": "ipython3",
   "version": "3.8.8"
  }
 },
 "nbformat": 4,
 "nbformat_minor": 5
}
