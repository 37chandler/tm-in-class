{
 "cells": [
  {
   "cell_type": "code",
   "execution_count": 1,
   "metadata": {},
   "outputs": [],
   "source": [
    "import requests\n",
    "from bs4 import BeautifulSoup\n",
    "from pprint import pprint\n",
    "import time"
   ]
  },
  {
   "cell_type": "code",
   "execution_count": 2,
   "metadata": {},
   "outputs": [],
   "source": [
    "# Needed to pass Rev's server checks.\n",
    "\n",
    "headers = {\n",
    "    'User-Agent': 'Mozilla/5.0 (Windows NT 10.0; Win64; x64) AppleWebKit/537.36 (KHTML, like Gecko) Chrome/91.0.4472.124 Safari/537.36'\n",
    "}\n",
    "\n"
   ]
  },
  {
   "cell_type": "code",
   "execution_count": 2,
   "metadata": {},
   "outputs": [],
   "source": [
    "def get_links(soup) : \n",
    "    divs = soup.find_all('div', class_='fl-post-grid-post')\n",
    "\n",
    "    # Iterate over each div and extract the link\n",
    "    links = []\n",
    "    for div in divs:\n",
    "        meta_tag = div.find('meta', itemprop='mainEntityOfPage')\n",
    "        if meta_tag and meta_tag.has_attr('itemid'):\n",
    "            link = meta_tag['itemid']\n",
    "            links.append(link)\n",
    "\n",
    "    return links\n",
    "\n",
    "\n",
    "def get_min_date(soup) :\n",
    "\n",
    "    # From a given soup, extract the date of the first transcript\n",
    "\n",
    "    return 0\n"
   ]
  },
  {
   "cell_type": "markdown",
   "metadata": {},
   "source": [
    "## Iterate over pages and get links"
   ]
  },
  {
   "cell_type": "code",
   "execution_count": 4,
   "metadata": {},
   "outputs": [
    {
     "name": "stdout",
     "output_type": "stream",
     "text": [
      "The current min date is 0\n"
     ]
    }
   ],
   "source": [
    "# Start with the first page\n",
    "r = requests.get(\"https://www.rev.com/blog/transcript-category/2024-election\", headers=headers)\n",
    "soup = BeautifulSoup(r.text, 'html.parser')\n",
    "links = get_links(soup)\n",
    "\n",
    "print(f\"The current min date is {get_min_date(soup)}\")"
   ]
  },
  {
   "cell_type": "code",
   "execution_count": 6,
   "metadata": {},
   "outputs": [
    {
     "data": {
      "text/plain": [
       "<meta content=\"2024-09-11\" itemprop=\"datePublished\"/>"
      ]
     },
     "execution_count": 6,
     "metadata": {},
     "output_type": "execute_result"
    }
   ],
   "source": [
    "soup.find('meta', itemprop='datePublished')"
   ]
  },
  {
   "cell_type": "code",
   "execution_count": 5,
   "metadata": {},
   "outputs": [
    {
     "data": {
      "text/plain": [
       "['https://www.rev.com/blog/transcripts/tim-walz-rally-in-phoenix',\n",
       " 'https://www.rev.com/blog/transcripts/harris-vs-trump-presidential-debate',\n",
       " 'https://www.rev.com/blog/transcripts/trump-vs-harris-presidential-debate-ai-transcript',\n",
       " 'https://www.rev.com/blog/transcripts/walz-speaks-at-human-rights-campaign-event',\n",
       " 'https://www.rev.com/blog/transcripts/trump-speaks-at-fraternal-order-of-police-meeting',\n",
       " 'https://www.rev.com/blog/transcripts/trump-rally-in-wisconsin',\n",
       " 'https://www.rev.com/blog/transcripts/harris-and-biden-hold-pennsylvania-campaign-event',\n",
       " 'https://www.rev.com/blog/transcripts/walz-speaks-at-labor-day-rally',\n",
       " 'https://www.rev.com/blog/transcripts/j-d-vance-speaks-to-firefighters-in-boston',\n",
       " 'https://www.rev.com/blog/transcripts/trump-speaks-at-event-in-michigan',\n",
       " 'https://www.rev.com/blog/transcripts/donald-trump-event-in-la-crosse-wisconsin',\n",
       " 'https://www.rev.com/blog/transcripts/kamala-harris-and-tim-walz-cnn-full-interview',\n",
       " 'https://www.rev.com/blog/transcripts/harris-and-walz-speak-in-hinesville',\n",
       " 'https://www.rev.com/blog/transcripts/vance-rally-in-erie-pa']"
      ]
     },
     "execution_count": 5,
     "metadata": {},
     "output_type": "execute_result"
    }
   ],
   "source": [
    "links\n"
   ]
  },
  {
   "cell_type": "code",
   "execution_count": 12,
   "metadata": {},
   "outputs": [
    {
     "name": "stdout",
     "output_type": "stream",
     "text": [
      "The current min date is 2024-08-22\n",
      "The current min date is 2024-08-21\n",
      "The current min date is 2024-08-19\n",
      "The current min date is 2024-08-12\n",
      "The current min date is 2024-05-26\n",
      "The current min date is 2024-02-01\n",
      "The current min date is 2024-01-16\n",
      "The current min date is 2023-12-20\n"
     ]
    }
   ],
   "source": [
    "links = []\n",
    "\n",
    "for page in range(2,10) : \n",
    "    url = f\"https://www.rev.com/blog/transcript-category/2024-election/page/{page}\"\n",
    "    r = requests.get(url, headers=headers)\n",
    "    soup = BeautifulSoup(r.text, 'html.parser')\n",
    "\n",
    "    links.extend(get_links(soup))\n",
    "    print(f\"The current min date is {get_min_date(soup)}\")\n",
    "\n",
    "    time.sleep(2)\n",
    "\n",
    "\n"
   ]
  },
  {
   "cell_type": "markdown",
   "metadata": {},
   "source": [
    "Let's save the links at this point to be careful. As of 9/25, I've done this, so I'm going to do what I normally do: comment this out so I don't overwrite the links I've already pulled. "
   ]
  },
  {
   "cell_type": "code",
   "execution_count": 13,
   "metadata": {},
   "outputs": [],
   "source": [
    "#with open('rev_conv_links.txt', 'w') as f:\n",
    "#    for link in links:\n",
    "#        f.write(f\"{link}\\n\")"
   ]
  },
  {
   "cell_type": "code",
   "execution_count": 3,
   "metadata": {},
   "outputs": [
    {
     "name": "stdout",
     "output_type": "stream",
     "text": [
      "['https://www.rev.com/blog/transcripts/democrats-speak-to-press-on-budget-bill',\n",
      " 'https://www.rev.com/blog/transcripts/republicans-speak-to-press-on-budget-bill',\n",
      " 'https://www.rev.com/blog/transcripts/kamala-harris-speaks-with-nabj-reporters-in-philadelphia',\n",
      " 'https://www.rev.com/blog/transcripts/pentagon-press-briefing-on-9-17-24',\n",
      " 'https://www.rev.com/blog/transcripts/karine-jean-pierre-white-house-press-briefing-on-9-17-24',\n",
      " 'https://www.rev.com/blog/transcripts/trump-holds-first-event-since-second-assasination-attempt',\n",
      " 'https://www.rev.com/blog/transcripts/sean-combs-arrest-press-conference',\n",
      " 'https://www.rev.com/blog/transcripts/biden-at-national-hbcu-week-conference',\n",
      " 'https://www.rev.com/blog/transcripts/tiktok-hearing-on-potential-ban',\n",
      " 'https://www.rev.com/blog/transcripts/desantis-gives-update-on-trump-assassination-attempt',\n",
      " 'https://www.rev.com/blog/transcripts/state-department-press-briefing-on-9-16-24',\n",
      " 'https://www.rev.com/blog/transcripts/titan-submersible-hearing',\n",
      " 'https://www.rev.com/blog/transcripts/2024-emmy-awards-top-moments',\n",
      " 'https://www.rev.com/blog/transcripts/tim-walz-speaks-in-michigan',\n",
      " 'https://www.rev.com/blog/transcripts/biden-speaks-at-black-excellence-event',\n",
      " 'https://www.rev.com/blog/transcripts/trump-rally-in-las-vegas',\n",
      " 'https://www.rev.com/blog/transcripts/donald-trump-takes-questions-from-reporters',\n",
      " 'https://www.rev.com/blog/transcripts/karine-jean-pierre-white-house-press-briefing-on-9-13-24',\n",
      " 'https://www.rev.com/blog/transcripts/press-conference-after-trump-assassination-attempt',\n",
      " 'https://www.rev.com/blog/transcripts/second-assassination-attempt-on-donald-trump',\n",
      " 'https://www.rev.com/blog/transcripts/harris-rally-in-north-carolina',\n",
      " 'https://www.rev.com/blog/transcripts/pentagon-press-briefing-on-9-12-24',\n",
      " 'https://www.rev.com/blog/transcripts/garland-speaks-to-threats-against-justice-department',\n",
      " 'https://www.rev.com/blog/transcripts/donald-trump-rally-in-arizona',\n",
      " 'https://www.rev.com/blog/transcripts/karine-jean-pierre-white-house-press-briefing-on-9-12-24',\n",
      " 'https://www.rev.com/blog/transcripts/2024-video-music-awards-results',\n",
      " 'https://www.rev.com/blog/transcripts/republican-press-conference-on-voting-security',\n",
      " 'https://www.rev.com/blog/transcripts/senate-hearing-on-future-of-social-security',\n",
      " 'https://www.rev.com/blog/transcripts/house-committee-on-election-integrity',\n",
      " 'https://www.rev.com/blog/transcripts/democrats-and-republicans-hold-news-conferences',\n",
      " 'https://www.rev.com/blog/transcripts/tim-walz-rally-in-phoenix',\n",
      " 'https://www.rev.com/blog/transcripts/cuomo-testifies-on-handling-of-covid-19-pandemic',\n",
      " 'https://www.rev.com/blog/transcripts/pentagon-press-briefing-on-9-10-24',\n",
      " 'https://www.rev.com/blog/transcripts/behind-the-claims-being-made-about-migrants-in-ohio',\n",
      " 'https://www.rev.com/blog/transcripts/harris-vs-trump-presidential-debate',\n",
      " 'https://www.rev.com/blog/transcripts/trump-vs-harris-presidential-debate-ai-transcript',\n",
      " 'https://www.rev.com/blog/transcripts/remembering-james-earl-jones',\n",
      " 'https://www.rev.com/blog/transcripts/biden-marks-anniversary-of-ada',\n",
      " 'https://www.rev.com/blog/transcripts/karine-jean-pierre-white-house-press-briefing-on-9-09-24',\n",
      " 'https://www.rev.com/blog/transcripts/apple-glow-time-event',\n",
      " 'https://www.rev.com/blog/transcripts/house-gop-holds-briefing-on-afghanistan-withdrawal',\n",
      " 'https://www.rev.com/blog/transcripts/walz-speaks-at-human-rights-campaign-event',\n",
      " 'https://www.rev.com/blog/transcripts/biden-signs-order-for-projects-with-better-benefits',\n",
      " 'https://www.rev.com/blog/transcripts/trump-speaks-at-fraternal-order-of-police-meeting',\n",
      " 'https://www.rev.com/blog/transcripts/karine-jean-pierre-white-house-press-briefing-on-9-04-24',\n",
      " 'https://www.rev.com/blog/transcripts/trump-rally-in-wisconsin',\n",
      " 'https://www.rev.com/blog/transcripts/antony-blinken-visits-haiti',\n",
      " 'https://www.rev.com/blog/transcripts/trump-speaks-after-appeal-arguement',\n",
      " 'https://www.rev.com/blog/transcripts/white-house-infrastructure-event',\n",
      " 'https://www.rev.com/blog/transcripts/justice-department-announces-terrorism-charges',\n",
      " 'https://www.rev.com/blog/transcripts/ketanji-brown-jackson-and-her-new-memoir',\n",
      " 'https://www.rev.com/blog/transcripts/karine-jean-pierre-white-house-press-briefing-on-9-03-24',\n",
      " 'https://www.rev.com/blog/transcripts/harris-and-biden-hold-pennsylvania-campaign-event',\n",
      " 'https://www.rev.com/blog/transcripts/walz-speaks-at-labor-day-rally',\n",
      " 'https://www.rev.com/blog/transcripts/j-d-vance-speaks-to-firefighters-in-boston',\n",
      " 'https://www.rev.com/blog/transcripts/pentagon-press-briefing-on-8-29-24',\n",
      " 'https://www.rev.com/blog/transcripts/trump-speaks-at-event-in-michigan',\n",
      " 'https://www.rev.com/blog/transcripts/donald-trump-event-in-la-crosse-wisconsin',\n",
      " 'https://www.rev.com/blog/transcripts/kamala-harris-and-tim-walz-cnn-full-interview',\n",
      " 'https://www.rev.com/blog/transcripts/faa-grounds-spacex-after-rocket-booster-fail',\n",
      " 'https://www.rev.com/blog/transcripts/national-security-council-press-briefing-on-8-29-24',\n",
      " 'https://www.rev.com/blog/transcripts/harris-and-walz-speak-in-hinesville',\n",
      " 'https://www.rev.com/blog/transcripts/vance-rally-in-erie-pa',\n",
      " 'https://www.rev.com/blog/transcripts/walz-speaks-to-firefighters-union',\n",
      " 'https://www.rev.com/blog/transcripts/companies-scaling-back-dei-initiatives-after-backlash',\n",
      " 'https://www.rev.com/blog/transcripts/pentagon-press-briefing-on-8-27-24',\n",
      " 'https://www.rev.com/blog/transcripts/dr-phil-interview-with-donald-trump-on-08-27-24',\n",
      " 'https://www.rev.com/blog/transcripts/j-d-vance-holds-rally-in-michigan-on-8-27-24',\n",
      " 'https://www.rev.com/blog/transcripts/stephen-king-reflects-on-his-iconic-career',\n",
      " 'https://www.rev.com/blog/transcripts/congress-members-speak-from-trump-shooting-location',\n",
      " 'https://www.rev.com/blog/transcripts/nasa-is-turning-to-spacex-to-bring-starliner-astronauts-home',\n",
      " 'https://www.rev.com/blog/transcripts/trump-speaks-at-national-guard-conference-in-detroit',\n",
      " 'https://www.rev.com/blog/transcripts/jd-vance-on-meet-the-press',\n",
      " 'https://www.rev.com/blog/transcripts/israel-launches-preemptive-strikes-on-hezbollah',\n",
      " 'https://www.rev.com/blog/transcripts/trump-speaks-at-turning-point-rally-in-glendale-arizona',\n",
      " 'https://www.rev.com/blog/transcripts/rfk-jr-suspends-2024-presidential-campaign',\n",
      " 'https://www.rev.com/blog/transcripts/donald-trump-speaks-at-the-southern-border',\n",
      " 'https://www.rev.com/blog/transcripts/kamala-harris-speaks-at-2024-democratic-national-convention',\n",
      " 'https://www.rev.com/blog/transcripts/gretchen-whitmer-speaks-at-2024-dnc',\n",
      " 'https://www.rev.com/blog/transcripts/adam-kinzinger-speaks-at-2024-democratic-national-convention',\n",
      " 'https://www.rev.com/blog/transcripts/d-l-hughley-speaks-at-2024-democratic-national-convention',\n",
      " 'https://www.rev.com/blog/transcripts/al-sharpton-speaks-at-2024-democratic-national-convention',\n",
      " 'https://www.rev.com/blog/transcripts/elizabeth-warren-speaks-at-2024-dnc',\n",
      " 'https://www.rev.com/blog/transcripts/vance-and-trump-rally-in-asheboro-nc',\n",
      " 'https://www.rev.com/blog/transcripts/hakeem-jeffries-speaks-at-democratic-national-convention',\n",
      " 'https://www.rev.com/blog/transcripts/pete-buttigieg-speaks-at-2024-democratic-national-convention',\n",
      " 'https://www.rev.com/blog/transcripts/cory-booker-speaks-at-2024-democratic-national-convention',\n",
      " 'https://www.rev.com/blog/transcripts/debbie-wasserman-schultz-speaks-at-dnc',\n",
      " 'https://www.rev.com/blog/transcripts/oprah-winfrey-speaks-at-democratic-national-convention',\n",
      " 'https://www.rev.com/blog/transcripts/tim-walz-speaks-at-2024-democratic-national-convention',\n",
      " 'https://www.rev.com/blog/transcripts/nancy-pelosi-speaks-at-2024-democratic-national-convention',\n",
      " 'https://www.rev.com/blog/transcripts/bill-clinton-speaks-at-2024-democratic-national-convention',\n",
      " 'https://www.rev.com/blog/transcripts/donald-trump-holds-a-campaign-rally-in-michigan',\n",
      " 'https://www.rev.com/blog/transcripts/antony-blinken-gives-update-on-ceasefire-efforts',\n",
      " 'https://www.rev.com/blog/transcripts/pentagon-press-briefing-on-8-20-24',\n",
      " 'https://www.rev.com/blog/transcripts/chuck-schumer-speaks-at-2024-democratic-national-convention',\n",
      " 'https://www.rev.com/blog/transcripts/doug-emhoff-speaks-at-2024-democratic-national-convention',\n",
      " 'https://www.rev.com/blog/transcripts/bernie-sanders-speaks-at-2024-democratic-national-convention',\n",
      " 'https://www.rev.com/blog/transcripts/remembering-phil-donahue',\n",
      " 'https://www.rev.com/blog/transcripts/michelle-obama-speaks-at-the-democratic-national-convention',\n",
      " 'https://www.rev.com/blog/transcripts/barack-obama-speaks-at-the-democratic-national-convention',\n",
      " 'https://www.rev.com/blog/transcripts/ashley-biden-speaks-at-2024-democratic-national-convention',\n",
      " 'https://www.rev.com/blog/transcripts/jill-biden-speaks-at-2024-democratic-national-convention',\n",
      " 'https://www.rev.com/blog/transcripts/raphael-warnock-speaks-at-democratic-national-convention',\n",
      " 'https://www.rev.com/blog/transcripts/donald-trump-rally-in-pennsylvania-on-8-19-24',\n",
      " 'https://www.rev.com/blog/transcripts/alexandria-ocasio-cortez-speaks-at-2024-dnc',\n",
      " 'https://www.rev.com/blog/transcripts/harris-energizes-crowd-with-tribute-to-biden-in-dnc-entrance',\n",
      " 'https://www.rev.com/blog/transcripts/kathy-hochul-speaks-at-2024-democratic-national-convention',\n",
      " 'https://www.rev.com/blog/transcripts/jaime-harrison-democratic-national-convention-2024-rev',\n",
      " 'https://www.rev.com/blog/transcripts/dick-durbin-speaks-at-2024-democratic-national-convention',\n",
      " 'https://www.rev.com/blog/transcripts/uaw-president-shawn-fain-speaks-at-2024-dnc',\n",
      " 'https://www.rev.com/blog/transcripts/hillary-rodham-clinton-at-the-democratic-national-convention',\n",
      " 'https://www.rev.com/blog/transcripts/president-biden-addresses-democratic-national-convention',\n",
      " 'https://www.rev.com/blog/transcripts/tim-walz-rally-in-nebraska-8-17-24',\n",
      " 'https://www.rev.com/blog/transcripts/kamala-harris-rally-in-north-carolina-on-8-16-24',\n",
      " 'https://www.rev.com/blog/transcripts/pentagon-press-briefing-on-8-15-24',\n",
      " 'https://www.rev.com/blog/transcripts/trump-rally-in-wilkes-barre-pennsylvania',\n",
      " 'https://www.rev.com/blog/transcripts/biden-and-harris-on-drug-prices',\n",
      " 'https://www.rev.com/blog/transcripts/trump-speaks-from-his-new-jersey-golf-club',\n",
      " 'https://www.rev.com/blog/transcripts/fema-budget-running-low',\n",
      " 'https://www.rev.com/blog/transcripts/j-d-vance-campaigns-in-michigan',\n",
      " 'https://www.rev.com/blog/transcripts/karine-jean-pierre-white-house-press-briefing-on-8-14-24',\n",
      " 'https://www.rev.com/blog/transcripts/biden-on-ai-and-online-privacy',\n",
      " 'https://www.rev.com/blog/transcripts/trump-rally-in-north-carolina',\n",
      " 'https://www.rev.com/blog/transcripts/biden-speaks-at-cancer-event',\n",
      " 'https://www.rev.com/blog/transcripts/tim-walz-campaign-speech-in-california',\n",
      " 'https://www.rev.com/blog/transcripts/pentagon-press-briefing-for-8-13-24',\n",
      " 'https://www.rev.com/blog/transcripts/state-department-press-briefing-for-8-13-24',\n",
      " 'https://www.rev.com/blog/transcripts/debris-left-behind-in-outer-space-is-a-growing-problem',\n",
      " 'https://www.rev.com/blog/transcripts/elon-musk-and-donald-trump-interview',\n",
      " 'https://www.rev.com/blog/transcripts/state-department-press-briefing-for-8-12-24',\n",
      " 'https://www.rev.com/blog/transcripts/karine-jean-pierre-white-house-press-briefing-on-8-12-24',\n",
      " 'https://www.rev.com/blog/transcripts/joe-biden-interview-on-cbs-sunday-morning',\n",
      " 'https://www.rev.com/blog/transcripts/senator-j-d-vance-on-face-the-nation',\n",
      " 'https://www.rev.com/blog/transcripts/harris-and-walz-speak-in-arizona',\n",
      " 'https://www.rev.com/blog/transcripts/trump-rally-in-montana',\n",
      " 'https://www.rev.com/blog/transcripts/kamala-harris-rally-in-las-vegas',\n",
      " 'https://www.rev.com/blog/transcripts/trump-holds-news-conference-at-mar-a-lago',\n",
      " 'https://www.rev.com/blog/transcripts/harris-and-walz-hold-campaign-rally-in-wisconsin',\n",
      " 'https://www.rev.com/blog/transcripts/karine-jean-pierre-white-house-press-briefing-on-8-07-24',\n",
      " 'https://www.rev.com/blog/transcripts/department-of-state-daily-press-briefing-8-07-24',\n",
      " 'https://www.rev.com/blog/transcripts/j-d-vance-rally-in-wisconsin',\n",
      " 'https://www.rev.com/blog/transcripts/research-suggests-egyptian-pyramids-were-built-with-water',\n",
      " 'https://www.rev.com/blog/transcripts/lester-holt-interviews-simone-biles',\n",
      " 'https://www.rev.com/blog/transcripts/karine-jean-pierre-white-house-press-briefing-on-8-06-24',\n",
      " 'https://www.rev.com/blog/transcripts/hamas-names-yahya-sinwar-as-new-leader',\n",
      " 'https://www.rev.com/blog/transcripts/vance-campaigns-in-philadelphia',\n",
      " 'https://www.rev.com/blog/transcripts/harris-and-walz-hold-first-rally',\n",
      " 'https://www.rev.com/blog/transcripts/u-s-court-rules-google-is-an-illegal-monopoly',\n",
      " 'https://www.rev.com/blog/transcripts/anti-immigrant-protesters-wreak-havoc-across-england',\n",
      " 'https://www.rev.com/blog/transcripts/department-of-state-daily-press-briefing-8-05-24',\n",
      " 'https://www.rev.com/blog/transcripts/kamala-harris-chooses-running-mate',\n",
      " 'https://www.rev.com/blog/transcripts/hurricane-debby-hits-florida-coast',\n",
      " 'https://www.rev.com/blog/transcripts/tensions-high-as-israel-prepares-for-retaliation-from-iran',\n",
      " 'https://www.rev.com/blog/transcripts/kamala-harris-rally-in-atlanta',\n",
      " 'https://www.rev.com/blog/transcripts/trump-and-vance-speak-at-atlanta-rally',\n",
      " 'https://www.rev.com/blog/transcripts/senate-hearing-on-trump-rally-shooting',\n",
      " 'https://www.rev.com/blog/transcripts/karine-jean-pierre-white-house-press-briefing-on-8-01-24',\n",
      " 'https://www.rev.com/blog/transcripts/trump-addresses-national-association-of-black-journalists',\n",
      " 'https://www.rev.com/blog/transcripts/biden-oval-office-address',\n",
      " 'https://www.rev.com/blog/transcripts/secret-service-director-cheatle-testifies-on-capitol-hill',\n",
      " 'https://www.rev.com/blog/transcripts/more-than-150-killed-in-bangladesh-protests',\n",
      " 'https://www.rev.com/blog/transcripts/harris-speaks-with-2024-campaign-headquarters',\n",
      " 'https://www.rev.com/blog/transcripts/jd-vances-holds-back-to-back-solo-rallys',\n",
      " 'https://www.rev.com/blog/transcripts/bob-newhart-passes-away-at-94',\n",
      " 'https://www.rev.com/blog/transcripts/rfk-jr-speaks-to-press-after-biden-drops-out-of-race',\n",
      " 'https://www.rev.com/blog/transcripts/trump-rally-in-grand-rapids-michigan',\n",
      " 'https://www.rev.com/blog/transcripts/biden-drops-out-and-endorses-harris-for-president',\n",
      " 'https://www.rev.com/blog/transcripts/eric-trump-speaks-at-rnc-2024-night-four',\n",
      " 'https://www.rev.com/blog/transcripts/tucker-carlson-speaks-at-rnc-2024-night-four',\n",
      " 'https://www.rev.com/blog/transcripts/linda-mcmahon-speaks-at-rnc-2024-night-four',\n",
      " 'https://www.rev.com/blog/transcripts/dana-white-speaks-at-rnc-2024-night-four',\n",
      " 'https://www.rev.com/blog/transcripts/hulk-hogan-speaks-at-rnc-2024-night-four',\n",
      " 'https://www.rev.com/blog/transcripts/franklin-graham-speaks-at-rnc-2024-night-four',\n",
      " 'https://www.rev.com/blog/transcripts/donald-trump-speaks-at-2024-republican-national-convention',\n",
      " 'https://www.rev.com/blog/transcripts/the-kings-speech-at-state-opening-of-parliament-2024',\n",
      " 'https://www.rev.com/blog/transcripts/biden-speaks-during-the-115th-naacp-national-convention',\n",
      " 'https://www.rev.com/blog/transcripts/usha-chilukuri-vance-speaks-at-rnc-2024-night-three',\n",
      " 'https://www.rev.com/blog/transcripts/don-trump-jr-speaks-at-rnc-2024-night-three',\n",
      " 'https://www.rev.com/blog/transcripts/kai-trump-speaks-at-rnc-2024-night-three',\n",
      " 'https://www.rev.com/blog/transcripts/kimberly-guilfoyle-speaks-at-rnc-2024-night-three',\n",
      " 'https://www.rev.com/blog/transcripts/kellyanne-conway-speaks-at-rnc-2024-night-three',\n",
      " 'https://www.rev.com/blog/transcripts/greg-abbott-speaks-at-rnc-2024-night-three',\n",
      " 'https://www.rev.com/blog/transcripts/newt-gingrich-speaks-at-rnc-2024-night-three',\n",
      " 'https://www.rev.com/blog/transcripts/matt-gaetz-speaks-at-rnc-2024-night-three',\n",
      " 'https://www.rev.com/blog/transcripts/2024-prime-time-emmy-nominations',\n",
      " 'https://www.rev.com/blog/transcripts/jd-vance-speaks-at-rnc-night-3',\n",
      " 'https://www.rev.com/blog/transcripts/nikki-haley-speaks-at-rnc-2024-night-two',\n",
      " 'https://www.rev.com/blog/transcripts/rick-scott-speaks-at-rnc-2024-night-two',\n",
      " 'https://www.rev.com/blog/transcripts/tom-cotton-speaks-at-rnc-2024-night-two',\n",
      " 'https://www.rev.com/blog/transcripts/mike-johnson-speaks-at-rnc-2024-night-two',\n",
      " 'https://www.rev.com/blog/transcripts/marco-rubio-speaks-at-rnc-2024-night-two',\n",
      " 'https://www.rev.com/blog/transcripts/steve-scalise-speaks-at-rnc-2024-night-two',\n",
      " 'https://www.rev.com/blog/transcripts/sarah-huckabee-sanders-speaks-at-rnc-2024-night-two',\n",
      " 'https://www.rev.com/blog/transcripts/ron-desantis-speaks-at-rnc-2024-night-two',\n",
      " 'https://www.rev.com/blog/transcripts/ted-cruz-speaks-at-rnc-2024-night-two',\n",
      " 'https://www.rev.com/blog/transcripts/dr-ben-carson-speaks-at-rnc-2024-night-two',\n",
      " 'https://www.rev.com/blog/transcripts/lara-trump-speaks-at-rnc-2024-night-two',\n",
      " 'https://www.rev.com/blog/transcripts/kari-lake-speaks-at-rnc-2024-night-two',\n",
      " 'https://www.rev.com/blog/transcripts/vivek-ramaswamy-speaks-at-rnc-2024-night-two',\n",
      " 'https://www.rev.com/blog/transcripts/elise-stefanik-speaks-at-rnc-2024-night-two',\n",
      " 'https://www.rev.com/blog/transcripts/joe-biden-interview-with-lester-holt',\n",
      " 'https://www.rev.com/blog/transcripts/tim-scott-speaks-at-rnc-2024-night-one',\n",
      " 'https://www.rev.com/blog/transcripts/charlie-kirk-speaks-at-rnc-2024-night-one',\n",
      " 'https://www.rev.com/blog/transcripts/ron-johnson-speaks-at-rnc-2024-night-one',\n",
      " 'https://www.rev.com/blog/transcripts/karine-jean-pierre-white-house-press-briefing-on-7-15-24',\n",
      " 'https://www.rev.com/blog/transcripts/amber-rose-speaks-at-rnc-2024-night-one',\n",
      " 'https://www.rev.com/blog/transcripts/marjorie-taylor-greene-speaks-at-rnc-2024-night-one',\n",
      " 'https://www.rev.com/blog/transcripts/katie-britt-speaks-at-rnc-2024-night-one',\n",
      " 'https://www.rev.com/blog/transcripts/j-d-vance-nominated-as-vice-presidential-nominee-at-the-rnc',\n",
      " 'https://www.rev.com/blog/transcripts/johnson-declares-trump-the-republican-nominee-for-president',\n",
      " 'https://www.rev.com/blog/transcripts/judge-dismisses-trump-classified-documents-case',\n",
      " 'https://www.rev.com/blog/transcripts/announcement-on-burials-investigation-and-1921-race-massacre',\n",
      " 'https://www.rev.com/blog/transcripts/oval-office-address-on-attempted-assassination-of-trump',\n",
      " 'https://www.rev.com/blog/transcripts/secret-service-briefing-ahead-of-rnc',\n",
      " 'https://www.rev.com/blog/transcripts/biden-responds-to-shooting-at-trump-rally']\n"
     ]
    }
   ],
   "source": [
    "with open('rev_conv_links.txt', 'r') as f: # normally I'd put this in data\\, but it's small \n",
    "  links = [line.strip() for line in f.readlines()]\n",
    "\n",
    "pprint(links)"
   ]
  },
  {
   "cell_type": "markdown",
   "metadata": {},
   "source": [
    "## Week 5 Continuation\n",
    "\n",
    "From class, things that still need to be done\n",
    "\n",
    "1. Cut down links to just DNC/RNC\n",
    "1. Write code to extract the speech\n",
    "1. Do speech extraction\n",
    "1. Store results\n",
    "\n",
    "\n",
    "### Your tasks\n",
    "\n",
    "1. Handle the first task above. Divide `links` into two sub-lists: those for the conventions and those that aren't. \n",
    "1. Try to enumerate the detailed steps included for the other tasks above. "
   ]
  },
  {
   "cell_type": "code",
   "execution_count": 4,
   "metadata": {},
   "outputs": [
    {
     "data": {
      "text/plain": [
       "list"
      ]
     },
     "execution_count": 4,
     "metadata": {},
     "output_type": "execute_result"
    }
   ],
   "source": []
  },
  {
   "cell_type": "code",
   "execution_count": null,
   "metadata": {},
   "outputs": [],
   "source": []
  }
 ],
 "metadata": {
  "kernelspec": {
   "display_name": "base",
   "language": "python",
   "name": "python3"
  },
  "language_info": {
   "codemirror_mode": {
    "name": "ipython",
    "version": 3
   },
   "file_extension": ".py",
   "mimetype": "text/x-python",
   "name": "python",
   "nbconvert_exporter": "python",
   "pygments_lexer": "ipython3",
   "version": "3.12.4"
  }
 },
 "nbformat": 4,
 "nbformat_minor": 2
}
