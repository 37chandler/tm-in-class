{
 "cells": [
  {
   "cell_type": "code",
   "execution_count": 1,
   "metadata": {},
   "outputs": [],
   "source": [
    "import requests\n",
    "from bs4 import BeautifulSoup\n",
    "from pprint import pprint\n",
    "import time"
   ]
  },
  {
   "cell_type": "code",
   "execution_count": 2,
   "metadata": {},
   "outputs": [],
   "source": [
    "# Needed to pass Rev's server checks.\n",
    "\n",
    "headers = {\n",
    "    'User-Agent': 'Mozilla/5.0 (Windows NT 10.0; Win64; x64) AppleWebKit/537.36 (KHTML, like Gecko) Chrome/91.0.4472.124 Safari/537.36'\n",
    "}\n",
    "\n"
   ]
  },
  {
   "cell_type": "code",
   "execution_count": 3,
   "metadata": {},
   "outputs": [],
   "source": [
    "def get_links(soup) : \n",
    "    divs = soup.find_all('div', class_='fl-post-grid-post')\n",
    "\n",
    "    # Iterate over each div and extract the link\n",
    "    links = []\n",
    "    for div in divs:\n",
    "        meta_tag = div.find('meta', itemprop='mainEntityOfPage')\n",
    "        if meta_tag and meta_tag.has_attr('itemid'):\n",
    "            link = meta_tag['itemid']\n",
    "            links.append(link)\n",
    "\n",
    "    return links\n",
    "\n",
    "\n",
    "def get_min_date(soup) :\n",
    "\n",
    "    # From a given soup, extract the date of the first transcript\n",
    "\n",
    "    return 0\n"
   ]
  },
  {
   "cell_type": "markdown",
   "metadata": {},
   "source": [
    "## Iterate over pages and get links"
   ]
  },
  {
   "cell_type": "code",
   "execution_count": 4,
   "metadata": {},
   "outputs": [
    {
     "name": "stdout",
     "output_type": "stream",
     "text": [
      "The current min date is 0\n"
     ]
    }
   ],
   "source": [
    "# Start with the first page\n",
    "r = requests.get(\"https://www.rev.com/blog/transcript-category/2024-election\", headers=headers)\n",
    "soup = BeautifulSoup(r.text, 'html.parser')\n",
    "links = get_links(soup)\n",
    "\n",
    "print(f\"The current min date is {get_min_date(soup)}\")"
   ]
  },
  {
   "cell_type": "code",
   "execution_count": 6,
   "metadata": {},
   "outputs": [
    {
     "data": {
      "text/plain": [
       "<meta content=\"2024-09-11\" itemprop=\"datePublished\"/>"
      ]
     },
     "execution_count": 6,
     "metadata": {},
     "output_type": "execute_result"
    }
   ],
   "source": [
    "soup.find('meta', itemprop='datePublished')"
   ]
  },
  {
   "cell_type": "code",
   "execution_count": 5,
   "metadata": {},
   "outputs": [
    {
     "data": {
      "text/plain": [
       "['https://www.rev.com/blog/transcripts/tim-walz-rally-in-phoenix',\n",
       " 'https://www.rev.com/blog/transcripts/harris-vs-trump-presidential-debate',\n",
       " 'https://www.rev.com/blog/transcripts/trump-vs-harris-presidential-debate-ai-transcript',\n",
       " 'https://www.rev.com/blog/transcripts/walz-speaks-at-human-rights-campaign-event',\n",
       " 'https://www.rev.com/blog/transcripts/trump-speaks-at-fraternal-order-of-police-meeting',\n",
       " 'https://www.rev.com/blog/transcripts/trump-rally-in-wisconsin',\n",
       " 'https://www.rev.com/blog/transcripts/harris-and-biden-hold-pennsylvania-campaign-event',\n",
       " 'https://www.rev.com/blog/transcripts/walz-speaks-at-labor-day-rally',\n",
       " 'https://www.rev.com/blog/transcripts/j-d-vance-speaks-to-firefighters-in-boston',\n",
       " 'https://www.rev.com/blog/transcripts/trump-speaks-at-event-in-michigan',\n",
       " 'https://www.rev.com/blog/transcripts/donald-trump-event-in-la-crosse-wisconsin',\n",
       " 'https://www.rev.com/blog/transcripts/kamala-harris-and-tim-walz-cnn-full-interview',\n",
       " 'https://www.rev.com/blog/transcripts/harris-and-walz-speak-in-hinesville',\n",
       " 'https://www.rev.com/blog/transcripts/vance-rally-in-erie-pa']"
      ]
     },
     "execution_count": 5,
     "metadata": {},
     "output_type": "execute_result"
    }
   ],
   "source": [
    "links\n"
   ]
  },
  {
   "cell_type": "code",
   "execution_count": 12,
   "metadata": {},
   "outputs": [
    {
     "name": "stdout",
     "output_type": "stream",
     "text": [
      "The current min date is 2024-08-22\n",
      "The current min date is 2024-08-21\n",
      "The current min date is 2024-08-19\n",
      "The current min date is 2024-08-12\n",
      "The current min date is 2024-05-26\n",
      "The current min date is 2024-02-01\n",
      "The current min date is 2024-01-16\n",
      "The current min date is 2023-12-20\n"
     ]
    }
   ],
   "source": [
    "links = []\n",
    "\n",
    "for page in range(2,10) : \n",
    "    url = f\"https://www.rev.com/blog/transcript-category/2024-election/page/{page}\"\n",
    "    r = requests.get(url, headers=headers)\n",
    "    soup = BeautifulSoup(r.text, 'html.parser')\n",
    "\n",
    "    links.extend(get_links(soup))\n",
    "    print(f\"The current min date is {get_min_date(soup)}\")\n",
    "\n",
    "    time.sleep(2)\n",
    "\n",
    "\n"
   ]
  },
  {
   "cell_type": "markdown",
   "metadata": {},
   "source": [
    "Let's save the links at this point to be careful. As of 9/25, I've done this, so I'm going to do what I normally do: comment this out so I don't overwrite the links I've already pulled. "
   ]
  },
  {
   "cell_type": "code",
   "execution_count": 13,
   "metadata": {},
   "outputs": [],
   "source": [
    "#with open('rev_conv_links.txt', 'w') as f:\n",
    "#    for link in links:\n",
    "#        f.write(f\"{link}\\n\")"
   ]
  },
  {
   "cell_type": "code",
   "execution_count": null,
   "metadata": {},
   "outputs": [],
   "source": [
    "with open('rev_conv_links.txt', 'r') as f: # normally I'd put this in data\\, but it's small \n",
    "  links = [line.strip() for line in f.readlines()]\n",
    "\n",
    "pprint(links)"
   ]
  },
  {
   "cell_type": "markdown",
   "metadata": {},
   "source": [
    "## Week 5 Continuation\n",
    "\n",
    "From class, things that still need to be done\n",
    "\n",
    "1. Cut down links to just DNC/RNC\n",
    "1. Write code to extract the speech\n",
    "1. Do speech extraction\n",
    "1. Store results\n",
    "\n",
    "\n",
    "### Your tasks\n",
    "\n",
    "1. Handle the first task above. Divide `links` into two sub-lists: those for the conventions and those that aren't. \n",
    "1. Try to enumerate the detailed steps included for the other tasks above. "
   ]
  },
  {
   "cell_type": "code",
   "execution_count": null,
   "metadata": {
    "vscode": {
     "languageId": "plaintext"
    }
   },
   "outputs": [],
   "source": []
  }
 ],
 "metadata": {
  "kernelspec": {
   "display_name": "base",
   "language": "python",
   "name": "python3"
  },
  "language_info": {
   "codemirror_mode": {
    "name": "ipython",
    "version": 3
   },
   "file_extension": ".py",
   "mimetype": "text/x-python",
   "name": "python",
   "nbconvert_exporter": "python",
   "pygments_lexer": "ipython3",
   "version": "3.12.4"
  }
 },
 "nbformat": 4,
 "nbformat_minor": 2
}
