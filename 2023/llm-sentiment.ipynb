{
 "cells": [
  {
   "cell_type": "code",
   "execution_count": 1,
   "metadata": {},
   "outputs": [],
   "source": [
    "import random\n",
    "import sqlite3\n",
    "import openai\n",
    "import os\n",
    "import pandas as pd\n",
    "\n",
    "from nltk.sentiment import SentimentAnalyzer\n",
    "from nltk.sentiment.util import *\n"
   ]
  },
  {
   "cell_type": "code",
   "execution_count": 2,
   "metadata": {},
   "outputs": [],
   "source": [
    "openai.api_key = os.getenv(\"OPENAI_API_KEY\")"
   ]
  },
  {
   "cell_type": "code",
   "execution_count": 3,
   "metadata": {},
   "outputs": [],
   "source": [
    "db = sqlite3.connect(\"../data/2020_conventions.db\")"
   ]
  },
  {
   "cell_type": "code",
   "execution_count": 4,
   "metadata": {},
   "outputs": [],
   "source": [
    "query = \"\"\"\n",
    "    SELECT speaker, night, text, sum(text_len) as words\n",
    "    FROM conventions\n",
    "    WHERE speaker in ('Donald Trump', 'Mike Pence',\n",
    "                      'Joe Biden', 'Kamala Harris')\n",
    "    GROUP BY speaker, night\n",
    "\"\"\"\n",
    "\n",
    "# Use pandas to run the query and store the results in a DataFrame\n",
    "df = pd.read_sql_query(query, db)"
   ]
  },
  {
   "cell_type": "code",
   "execution_count": 6,
   "metadata": {},
   "outputs": [
    {
     "data": {
      "text/html": [
       "<div>\n",
       "<style scoped>\n",
       "    .dataframe tbody tr th:only-of-type {\n",
       "        vertical-align: middle;\n",
       "    }\n",
       "\n",
       "    .dataframe tbody tr th {\n",
       "        vertical-align: top;\n",
       "    }\n",
       "\n",
       "    .dataframe thead th {\n",
       "        text-align: right;\n",
       "    }\n",
       "</style>\n",
       "<table border=\"1\" class=\"dataframe\">\n",
       "  <thead>\n",
       "    <tr style=\"text-align: right;\">\n",
       "      <th></th>\n",
       "      <th>speaker</th>\n",
       "      <th>night</th>\n",
       "      <th>text</th>\n",
       "      <th>words</th>\n",
       "    </tr>\n",
       "  </thead>\n",
       "  <tbody>\n",
       "    <tr>\n",
       "      <th>7</th>\n",
       "      <td>Joe Biden</td>\n",
       "      <td>4</td>\n",
       "      <td>I’ll see you on Thursday.</td>\n",
       "      <td>4495</td>\n",
       "    </tr>\n",
       "    <tr>\n",
       "      <th>4</th>\n",
       "      <td>Joe Biden</td>\n",
       "      <td>1</td>\n",
       "      <td>If you elect me, your taxes are going to be ra...</td>\n",
       "      <td>642</td>\n",
       "    </tr>\n",
       "    <tr>\n",
       "      <th>1</th>\n",
       "      <td>Donald Trump</td>\n",
       "      <td>2</td>\n",
       "      <td>Two years ago, I was honored to tell John Pond...</td>\n",
       "      <td>1445</td>\n",
       "    </tr>\n",
       "    <tr>\n",
       "      <th>0</th>\n",
       "      <td>Donald Trump</td>\n",
       "      <td>1</td>\n",
       "      <td>We will never, ever sign bad trade deals. Amer...</td>\n",
       "      <td>697</td>\n",
       "    </tr>\n",
       "    <tr>\n",
       "      <th>11</th>\n",
       "      <td>Mike Pence</td>\n",
       "      <td>2</td>\n",
       "      <td>America. The land of opportunity. The country ...</td>\n",
       "      <td>705</td>\n",
       "    </tr>\n",
       "    <tr>\n",
       "      <th>10</th>\n",
       "      <td>Kamala Harris</td>\n",
       "      <td>4</td>\n",
       "      <td>In this election, we have a chance to change t...</td>\n",
       "      <td>54</td>\n",
       "    </tr>\n",
       "    <tr>\n",
       "      <th>6</th>\n",
       "      <td>Joe Biden</td>\n",
       "      <td>3</td>\n",
       "      <td>I’ve looked in the eyes of too many parents, a...</td>\n",
       "      <td>206</td>\n",
       "    </tr>\n",
       "    <tr>\n",
       "      <th>3</th>\n",
       "      <td>Donald Trump</td>\n",
       "      <td>4</td>\n",
       "      <td>Where are they going? Where are these ballots ...</td>\n",
       "      <td>7557</td>\n",
       "    </tr>\n",
       "    <tr>\n",
       "      <th>5</th>\n",
       "      <td>Joe Biden</td>\n",
       "      <td>2</td>\n",
       "      <td>We lead not only by the example of our power, ...</td>\n",
       "      <td>1206</td>\n",
       "    </tr>\n",
       "    <tr>\n",
       "      <th>12</th>\n",
       "      <td>Mike Pence</td>\n",
       "      <td>3</td>\n",
       "      <td>Greetings across the amber waves of grain, thi...</td>\n",
       "      <td>3779</td>\n",
       "    </tr>\n",
       "  </tbody>\n",
       "</table>\n",
       "</div>"
      ],
      "text/plain": [
       "          speaker  night                                               text  \\\n",
       "7       Joe Biden      4                          I’ll see you on Thursday.   \n",
       "4       Joe Biden      1  If you elect me, your taxes are going to be ra...   \n",
       "1    Donald Trump      2  Two years ago, I was honored to tell John Pond...   \n",
       "0    Donald Trump      1  We will never, ever sign bad trade deals. Amer...   \n",
       "11     Mike Pence      2  America. The land of opportunity. The country ...   \n",
       "10  Kamala Harris      4  In this election, we have a chance to change t...   \n",
       "6       Joe Biden      3  I’ve looked in the eyes of too many parents, a...   \n",
       "3    Donald Trump      4  Where are they going? Where are these ballots ...   \n",
       "5       Joe Biden      2  We lead not only by the example of our power, ...   \n",
       "12     Mike Pence      3  Greetings across the amber waves of grain, thi...   \n",
       "\n",
       "    words  \n",
       "7    4495  \n",
       "4     642  \n",
       "1    1445  \n",
       "0     697  \n",
       "11    705  \n",
       "10     54  \n",
       "6     206  \n",
       "3    7557  \n",
       "5    1206  \n",
       "12   3779  "
      ]
     },
     "execution_count": 6,
     "metadata": {},
     "output_type": "execute_result"
    }
   ],
   "source": [
    "df.sample(10)"
   ]
  },
  {
   "cell_type": "code",
   "execution_count": 12,
   "metadata": {},
   "outputs": [],
   "source": [
    "example = df.sample(1)['text']#.query(\"speaker == 'Donald Trump' and words > 10\")[\"text\"].sample(1)"
   ]
  },
  {
   "cell_type": "code",
   "execution_count": 29,
   "metadata": {},
   "outputs": [],
   "source": [
    "example = \"I super love United, particuly the way they made me sleep in the dallas airport last night.\""
   ]
  },
  {
   "cell_type": "code",
   "execution_count": 14,
   "metadata": {},
   "outputs": [
    {
     "name": "stdout",
     "output_type": "stream",
     "text": [
      "We will never, ever sign bad trade deals. America first, again, America first.\n"
     ]
    }
   ],
   "source": [
    "print(example.values[0])"
   ]
  },
  {
   "cell_type": "code",
   "execution_count": 32,
   "metadata": {},
   "outputs": [],
   "source": [
    "    chat_response = openai.ChatCompletion.create(\n",
    "        model=\"gpt-3.5-turbo\",\n",
    "        messages=[\n",
    "            {\"role\": \"system\", \"content\": \"You are an expert in NLP.\"},\n",
    "            {\"role\": \"user\", \"content\": f\"What is the sentiment of this text? Respond with positive, negative or neutral.\\n{example}\"},\n",
    "        ],\n",
    "        temperature=0,\n",
    "        max_tokens=10,\n",
    "    )"
   ]
  },
  {
   "cell_type": "code",
   "execution_count": 33,
   "metadata": {},
   "outputs": [
    {
     "data": {
      "text/plain": [
       "'The sentiment of the text is negative.'"
      ]
     },
     "execution_count": 33,
     "metadata": {},
     "output_type": "execute_result"
    }
   ],
   "source": [
    "chat_response.choices[0].message.content"
   ]
  },
  {
   "cell_type": "code",
   "execution_count": null,
   "metadata": {},
   "outputs": [],
   "source": []
  }
 ],
 "metadata": {
  "kernelspec": {
   "display_name": ".venv",
   "language": "python",
   "name": "python3"
  },
  "language_info": {
   "codemirror_mode": {
    "name": "ipython",
    "version": 3
   },
   "file_extension": ".py",
   "mimetype": "text/x-python",
   "name": "python",
   "nbconvert_exporter": "python",
   "pygments_lexer": "ipython3",
   "version": "3.8.16"
  },
  "orig_nbformat": 4
 },
 "nbformat": 4,
 "nbformat_minor": 2
}
