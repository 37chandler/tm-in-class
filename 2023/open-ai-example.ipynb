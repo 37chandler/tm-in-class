{
 "cells": [
  {
   "cell_type": "code",
   "execution_count": 1,
   "metadata": {},
   "outputs": [],
   "source": [
    "import os\n",
    "import openai"
   ]
  },
  {
   "cell_type": "code",
   "execution_count": 2,
   "metadata": {},
   "outputs": [],
   "source": [
    "openai.api_key = os.getenv(\"OPENAI_API_KEY\")\n",
    "\n"
   ]
  },
  {
   "cell_type": "code",
   "execution_count": 3,
   "metadata": {},
   "outputs": [],
   "source": [
    "\n",
    "response = openai.ChatCompletion.create(\n",
    "  model=\"gpt-3.5-turbo\",\n",
    "  messages=[\n",
    "    {\"role\": \"system\", \"content\": \"You are a helpful assistant.\"},\n",
    "    {\"role\": \"user\", \"content\": \"What are some famous astronomical observatories?\"}\n",
    "  ],\n",
    "  temperature=0,\n",
    "  max_tokens=1024\n",
    ")"
   ]
  },
  {
   "cell_type": "code",
   "execution_count": 4,
   "metadata": {},
   "outputs": [
    {
     "name": "stdout",
     "output_type": "stream",
     "text": [
      "{\n",
      "  \"choices\": [\n",
      "    {\n",
      "      \"finish_reason\": \"stop\",\n",
      "      \"index\": 0,\n",
      "      \"message\": {\n",
      "        \"content\": \"Some famous astronomical observatories include:\\n\\n1. Hubble Space Telescope: Launched in 1990, the Hubble Space Telescope is one of the most famous observatories. It has provided stunning images and valuable scientific data about the universe.\\n\\n2. Mauna Kea Observatory: Located on the summit of Mauna Kea in Hawaii, this observatory is home to several telescopes operated by different countries and organizations. It is known for its high altitude and clear skies.\\n\\n3. Arecibo Observatory: Located in Puerto Rico, the Arecibo Observatory is famous for its massive radio telescope, which was the largest single-aperture telescope until its collapse in 2020.\\n\\n4. Palomar Observatory: Situated in California, the Palomar Observatory houses the famous 200-inch Hale Telescope. It has been instrumental in many astronomical discoveries.\\n\\n5. Very Large Array (VLA): Located in New Mexico, the VLA consists of 27 radio antennas spread over a large area. It has been used to study a wide range of astronomical phenomena.\\n\\n6. Chandra X-ray Observatory: Launched in 1999, the Chandra X-ray Observatory is a space-based telescope that observes X-rays from high-energy sources in the universe.\\n\\n7. European Southern Observatory (ESO): The ESO operates several observatories in Chile, including the Very Large Telescope (VLT) and the Atacama Large Millimeter/submillimeter Array (ALMA). These observatories provide valuable data in various wavelengths.\\n\\n8. Keck Observatory: Located in Hawaii, the Keck Observatory consists of two telescopes with 10-meter mirrors. It has contributed to numerous astronomical discoveries.\\n\\nThese are just a few examples of famous astronomical observatories, and there are many more around the world.\",\n",
      "        \"role\": \"assistant\"\n",
      "      }\n",
      "    }\n",
      "  ],\n",
      "  \"created\": 1694647760,\n",
      "  \"id\": \"chatcmpl-7yTaKEQN6ZTfyh2SDoRkY8kBA5nU1\",\n",
      "  \"model\": \"gpt-3.5-turbo-0613\",\n",
      "  \"object\": \"chat.completion\",\n",
      "  \"usage\": {\n",
      "    \"completion_tokens\": 359,\n",
      "    \"prompt_tokens\": 25,\n",
      "    \"total_tokens\": 384\n",
      "  }\n",
      "}\n"
     ]
    }
   ],
   "source": [
    "print(response)"
   ]
  },
  {
   "cell_type": "code",
   "execution_count": null,
   "metadata": {},
   "outputs": [],
   "source": [
    "print(response['choices'][0]['message']['content'])"
   ]
  },
  {
   "cell_type": "code",
   "execution_count": null,
   "metadata": {},
   "outputs": [],
   "source": [
    "print(response['usage']['total_tokens'])"
   ]
  },
  {
   "cell_type": "code",
   "execution_count": null,
   "metadata": {},
   "outputs": [],
   "source": [
    "response.keys()"
   ]
  },
  {
   "cell_type": "code",
   "execution_count": null,
   "metadata": {},
   "outputs": [],
   "source": [
    "response.values()"
   ]
  },
  {
   "cell_type": "code",
   "execution_count": null,
   "metadata": {},
   "outputs": [],
   "source": [
    "system_msg = \"\"\"\n",
    "Given the following SQL tables, your job is to write queries given a user’s request.\n",
    "\n",
    "CREATE TABLE Orders (\n",
    "  OrderID int,\n",
    "  CustomerID int,\n",
    "  OrderDate datetime,\n",
    "  OrderTime varchar(8),\n",
    "  PRIMARY KEY (OrderID)\n",
    ");\n",
    "\n",
    "CREATE TABLE OrderDetails (\n",
    "  OrderDetailID int,\n",
    "  OrderID int,\n",
    "  ProductID int,\n",
    "  Quantity int,\n",
    "  PRIMARY KEY (OrderDetailID)\n",
    ");\n",
    "\n",
    "CREATE TABLE Products (\n",
    "  ProductID int,\n",
    "  ProductName varchar(50),\n",
    "  Category varchar(50),\n",
    "  UnitPrice decimal(10, 2),\n",
    "  Stock int,\n",
    "  PRIMARY KEY (ProductID)\n",
    ");\n",
    "\n",
    "CREATE TABLE Customers (\n",
    "  CustomerID int,\n",
    "  FirstName varchar(50),\n",
    "  LastName varchar(50),\n",
    "  Email varchar(100),\n",
    "  Phone varchar(20),\n",
    "  PRIMARY KEY (CustomerID)\n",
    ");\n",
    "\n",
    "\"\"\"\n",
    "\n",
    "user_msg = \"\"\"\n",
    "Write a SQL query which computes the average total order value for all orders on 2023-04-01.\n",
    "\"\"\""
   ]
  },
  {
   "cell_type": "code",
   "execution_count": null,
   "metadata": {},
   "outputs": [],
   "source": [
    "\n",
    "\n",
    "response = openai.ChatCompletion.create(\n",
    "  model=\"gpt-4\",\n",
    "  messages=[\n",
    "    {\"role\": \"system\", \"content\": system_msg},\n",
    "    {\"role\": \"user\", \"content\": user_msg}\n",
    "  ],\n",
    "  temperature=0,\n",
    "  max_tokens=1024\n",
    ")"
   ]
  },
  {
   "cell_type": "code",
   "execution_count": null,
   "metadata": {},
   "outputs": [],
   "source": [
    "response"
   ]
  },
  {
   "cell_type": "code",
   "execution_count": null,
   "metadata": {},
   "outputs": [],
   "source": [
    "print(response['choices'][0]['message']['content'])"
   ]
  },
  {
   "cell_type": "code",
   "execution_count": null,
   "metadata": {},
   "outputs": [],
   "source": []
  }
 ],
 "metadata": {
  "kernelspec": {
   "display_name": "Python 3 (ipykernel)",
   "language": "python",
   "name": "python3"
  },
  "language_info": {
   "codemirror_mode": {
    "name": "ipython",
    "version": 3
   },
   "file_extension": ".py",
   "mimetype": "text/x-python",
   "name": "python",
   "nbconvert_exporter": "python",
   "pygments_lexer": "ipython3",
   "version": "3.8.16"
  }
 },
 "nbformat": 4,
 "nbformat_minor": 2
}
