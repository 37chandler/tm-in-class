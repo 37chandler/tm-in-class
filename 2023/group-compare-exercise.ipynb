{
 "cells": [
  {
   "attachments": {},
   "cell_type": "markdown",
   "metadata": {},
   "source": [
    "## Group Compare Exercise\n",
    "\n",
    "The `one_vs_two` stuff from the Group Comparison assignment has given people fits. Let's see if we can get it working quickly using only prompts. First, here are my instructions from the assignment, modified for this context.\n",
    "\n",
    "---\n",
    "\n",
    "Write a function that takes in two corpora, `corpus_1` and `corpus_2`, which will be passed in as long strings. These need to be tokenized on whitespace and cast to lowercase, but no other normalization is needed. This function will accept two additional arguments, `num_words` and `ratio_cutoff`, described below. \n",
    "\n",
    "You will return a dictionary. \n",
    "The key of this dictionary\n",
    "will be a word and the value will be an index. If $p_1$ is the fraction of words\n",
    "in corpus one made up of this word and $p_2$ is the fraction in corpus two, then \n",
    "the index will be $\\frac{p_1}{p_2}$. For instance, if \"dog\" was used 5 times in a 1000 word\n",
    "corpus and 2 times in a 10000 word corpus, the dictionary entry would be this:\n",
    "`results[\"dog\"] = (5/1000)/(2/10000)`. Only return `num_words`\n",
    "words for each corpus, where those words have the highest ratio in the data set. Only \n",
    "words that have at least `ratio_cutoff` usages in *each* data set will be returned. \n",
    "Typically we'll set `ratio_cutoff` to something relatively small, like 5. \n",
    "\n",
    "This calculation is complicated! I've made a [spreadsheet](https://docs.google.com/spreadsheets/d/1P87fkyslJhqXFnfYezNYrDrXp_GS8gwSATsZymv-9ms/edit#gid=0) to help you understand the math. \n",
    "\n"
   ]
  },
  {
   "cell_type": "code",
   "execution_count": null,
   "metadata": {},
   "outputs": [],
   "source": [
    "\n",
    "def compare_texts(corpus_1, corpus_2, num_words = 10, ratio_cutoff=5) :\n",
    "    corpus_1 = [w.lower() for w in corpus_1.split()]\n",
    "    corpus_2 = [w.lower() for w in corpus_2.split()]\n",
    "\n",
    "\n",
    "\n",
    "    results = dict()\n",
    "\n",
    "            \n",
    "    return(results)"
   ]
  },
  {
   "attachments": {},
   "cell_type": "markdown",
   "metadata": {},
   "source": [
    "## Testing the function\n",
    "\n",
    "In the cells below, we read in the Democratic and Republican speeches from 2020 and look at some outputs. This assumes that the ConventionSpeeches.db is in the `data` folder which is at the same level as the annual folders in the repo."
   ]
  },
  {
   "cell_type": "code",
   "execution_count": null,
   "metadata": {},
   "outputs": [],
   "source": [
    "import sqlite3\n",
    "from collections import defaultdict\n",
    "from nltk import FreqDist"
   ]
  },
  {
   "cell_type": "code",
   "execution_count": null,
   "metadata": {},
   "outputs": [],
   "source": [
    "conn = sqlite3.connect('../data/ConventionSpeeches.db')\n",
    "cur = conn.cursor()\n",
    "\n",
    "sql = \"\"\"\n",
    "  SELECT party, text \n",
    "  FROM conventions\n",
    "  WHERE year = 2020\n",
    "\"\"\"\n",
    "\n",
    "\n",
    "results = cur.execute(sql).fetchall()"
   ]
  },
  {
   "cell_type": "code",
   "execution_count": null,
   "metadata": {},
   "outputs": [],
   "source": [
    "corpora = defaultdict(str)\n",
    "\n",
    "for item in results : \n",
    "  corpora[item[0]] += item[1]\n",
    "\n",
    "corpus_one = corpora[\"Republican\"]\n",
    "corpus_two = corpora[\"Democratic\"]"
   ]
  },
  {
   "cell_type": "code",
   "execution_count": null,
   "metadata": {},
   "outputs": [],
   "source": [
    "compare_texts(corpus_one, corpus_two, num_words = 10, ratio_cutoff=5)"
   ]
  },
  {
   "cell_type": "code",
   "execution_count": null,
   "metadata": {},
   "outputs": [],
   "source": [
    "compare_texts(corpus_one, corpus_two, num_words = 10, ratio_cutoff=30)"
   ]
  },
  {
   "cell_type": "code",
   "execution_count": null,
   "metadata": {},
   "outputs": [],
   "source": [
    "compare_texts(corpus_one, corpus_two, num_words = 20, ratio_cutoff=4)"
   ]
  },
  {
   "attachments": {},
   "cell_type": "markdown",
   "metadata": {},
   "source": [
    "Here are some examples of the output from my solution.\n",
    "\n",
    "\n",
    "![10 words, cutoff at 5](images/comp_10_5.png)\n",
    "![10 words, cutoff at 30](images/comp_10_30.png)\n",
    "![20 words, cutoff at 4](images/comp_20_4.png)"
   ]
  },
  {
   "attachments": {},
   "cell_type": "markdown",
   "metadata": {},
   "source": []
  }
 ],
 "metadata": {
  "kernelspec": {
   "display_name": ".venv",
   "language": "python",
   "name": "python3"
  },
  "language_info": {
   "codemirror_mode": {
    "name": "ipython",
    "version": 3
   },
   "file_extension": ".py",
   "mimetype": "text/x-python",
   "name": "python",
   "nbconvert_exporter": "python",
   "pygments_lexer": "ipython3",
   "version": "3.8.16"
  },
  "orig_nbformat": 4
 },
 "nbformat": 4,
 "nbformat_minor": 2
}
