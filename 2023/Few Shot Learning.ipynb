{
 "cells": [
  {
   "cell_type": "code",
   "execution_count": 1,
   "metadata": {},
   "outputs": [],
   "source": [
    "import os\n",
    "import openai\n",
    "import pandas as pd\n",
    "import random\n",
    "from pprint import pprint"
   ]
  },
  {
   "cell_type": "code",
   "execution_count": 2,
   "metadata": {},
   "outputs": [],
   "source": [
    "openai.api_key = os.getenv(\"OPENAI_API_KEY\")"
   ]
  },
  {
   "cell_type": "code",
   "execution_count": 3,
   "metadata": {},
   "outputs": [],
   "source": [
    "items = pd.read_csv('../data/item_list.txt',sep=\"\\t\")"
   ]
  },
  {
   "attachments": {},
   "cell_type": "markdown",
   "metadata": {},
   "source": [
    "The item list is a list of everything that The Dram Shop has had on tap since inception. Run the next cell a few times to get a sense for the chaos of their naming conventions."
   ]
  },
  {
   "cell_type": "code",
   "execution_count": 4,
   "metadata": {},
   "outputs": [
    {
     "data": {
      "text/html": [
       "<div>\n",
       "<style scoped>\n",
       "    .dataframe tbody tr th:only-of-type {\n",
       "        vertical-align: middle;\n",
       "    }\n",
       "\n",
       "    .dataframe tbody tr th {\n",
       "        vertical-align: top;\n",
       "    }\n",
       "\n",
       "    .dataframe thead th {\n",
       "        text-align: right;\n",
       "    }\n",
       "</style>\n",
       "<table border=\"1\" class=\"dataframe\">\n",
       "  <thead>\n",
       "    <tr style=\"text-align: right;\">\n",
       "      <th></th>\n",
       "      <th>Item</th>\n",
       "    </tr>\n",
       "  </thead>\n",
       "  <tbody>\n",
       "    <tr>\n",
       "      <th>1840</th>\n",
       "      <td>16 Pineapple Sculpin IPA - Ballast Point</td>\n",
       "    </tr>\n",
       "    <tr>\n",
       "      <th>3081</th>\n",
       "      <td>AG Rosé Cider - Anthem</td>\n",
       "    </tr>\n",
       "    <tr>\n",
       "      <th>8877</th>\n",
       "      <td>25G (12oz pour) Ginger, Lemon &amp; Hibiscus Hard ...</td>\n",
       "    </tr>\n",
       "    <tr>\n",
       "      <th>4254</th>\n",
       "      <td>23P Hoegaarden - Whitbier</td>\n",
       "    </tr>\n",
       "    <tr>\n",
       "      <th>7774</th>\n",
       "      <td>10P Amora IPA - Überbrew</td>\n",
       "    </tr>\n",
       "    <tr>\n",
       "      <th>3828</th>\n",
       "      <td>Cirasa Nero d'Avola</td>\n",
       "    </tr>\n",
       "    <tr>\n",
       "      <th>6353</th>\n",
       "      <td>F13P Fresh Squeezed IPA - Deschutes</td>\n",
       "    </tr>\n",
       "    <tr>\n",
       "      <th>10858</th>\n",
       "      <td>13C Grazing Clouds Hazy IPA - Mountains Walking</td>\n",
       "    </tr>\n",
       "    <tr>\n",
       "      <th>2917</th>\n",
       "      <td>25S Sour Brown - Teton</td>\n",
       "    </tr>\n",
       "    <tr>\n",
       "      <th>9716</th>\n",
       "      <td>09M Last Best Pale Ale - Blackfoot</td>\n",
       "    </tr>\n",
       "  </tbody>\n",
       "</table>\n",
       "</div>"
      ],
      "text/plain": [
       "                                                    Item\n",
       "1840            16 Pineapple Sculpin IPA - Ballast Point\n",
       "3081                              AG Rosé Cider - Anthem\n",
       "8877   25G (12oz pour) Ginger, Lemon & Hibiscus Hard ...\n",
       "4254                           23P Hoegaarden - Whitbier\n",
       "7774                            10P Amora IPA - Überbrew\n",
       "3828                                 Cirasa Nero d'Avola\n",
       "6353                 F13P Fresh Squeezed IPA - Deschutes\n",
       "10858    13C Grazing Clouds Hazy IPA - Mountains Walking\n",
       "2917                              25S Sour Brown - Teton\n",
       "9716                  09M Last Best Pale Ale - Blackfoot"
      ]
     },
     "execution_count": 4,
     "metadata": {},
     "output_type": "execute_result"
    }
   ],
   "source": [
    "items.sample(10)"
   ]
  },
  {
   "cell_type": "code",
   "execution_count": 5,
   "metadata": {},
   "outputs": [
    {
     "data": {
      "text/plain": [
       "Item    16 Go To Session IPA - Stone\n",
       "Name: 531, dtype: object"
      ]
     },
     "execution_count": 5,
     "metadata": {},
     "output_type": "execute_result"
    }
   ],
   "source": [
    "items.iloc[531]"
   ]
  },
  {
   "attachments": {},
   "cell_type": "markdown",
   "metadata": {},
   "source": [
    "## Few Shot Learning\n",
    "\n",
    "In \"few shot\" learning, we give the AI some examples to follow. The idea is to \"seed\" the model with some examples it can learn from. The performance improvements can be large, as you can see in this [paper](https://cameronrwolfe.substack.com/p/practical-prompt-engineering-part#%C2%A7few-shot-learning). In the code below, I'd like you to modify the (not-great) examples I'm giving you to incorporate what you did in the zero-shot learning exercise. "
   ]
  },
  {
   "cell_type": "code",
   "execution_count": 6,
   "metadata": {},
   "outputs": [],
   "source": [
    "# Incorporate the prompt engineering you did in Zero Shot Learning.ipynb into \n",
    "# the below prompts. Note that I'm making use of the fact that \n",
    "# python will glue together strings placed within parentheses.\n",
    " \n",
    "system_prompt = \"\"\"You are a world-class Cicerone, trained in beers throughout the world.\"\"\"\n",
    "\n",
    "user_prompt_stub = (\n",
    "  \"I have access to the sales data from a growler fill station. Our data is messy. \"\n",
    "  \"This item description contains the name of a beer, but \"\n",
    "  \"it also contains other information like the tap number, \"\n",
    "  \"the brewery, and maybe other things. I want your help \"\n",
    "  \"extracting the beer names.\\n\\n\"\n",
    "  \"I'm going to give you eight examples of what I'm looking for. \"\n",
    "  \"After these examples, I'll give you an item description. Return \"\n",
    "  \"a line with the same formatting as the examples. The first column \"\n",
    "  \"is the raw item, the second is the cleaned beer name.\\n\\n\"\n",
    ")\n"
   ]
  },
  {
   "attachments": {},
   "cell_type": "markdown",
   "metadata": {},
   "source": [
    "We'll look at this prompt in two ways. `pprint` will preserve the returns so it's\n",
    "easier to read. The `print` option will just show these as long strings, which is closer to\n",
    "how you'd send it in to ChatGPT."
   ]
  },
  {
   "cell_type": "code",
   "execution_count": 7,
   "metadata": {},
   "outputs": [
    {
     "name": "stdout",
     "output_type": "stream",
     "text": [
      "('I have access to the sales data from a growler fill station. Our data is '\n",
      " 'messy. This item description contains the name of a beer, but it also '\n",
      " 'contains other information like the tap number, the brewery, and maybe other '\n",
      " 'things. I want your help extracting the beer names.\\n'\n",
      " '\\n'\n",
      " \"I'm going to give you eight examples of what I'm looking for. After these \"\n",
      " \"examples, I'll give you an item description. Return a line with the same \"\n",
      " 'formatting as the examples. The first column is the raw item, the second is '\n",
      " 'the cleaned beer name.\\n'\n",
      " '\\n')\n"
     ]
    }
   ],
   "source": [
    "pprint(user_prompt_stub)"
   ]
  },
  {
   "cell_type": "code",
   "execution_count": 8,
   "metadata": {},
   "outputs": [
    {
     "name": "stdout",
     "output_type": "stream",
     "text": [
      "I have access to the sales data from a growler fill station. Our data is messy. This item description contains the name of a beer, but it also contains other information like the tap number, the brewery, and maybe other things. I want your help extracting the beer names.\n",
      "\n",
      "I'm going to give you eight examples of what I'm looking for. After these examples, I'll give you an item description. Return a line with the same formatting as the examples. The first column is the raw item, the second is the cleaned beer name.\n",
      "\n",
      "\n"
     ]
    }
   ],
   "source": [
    "print(user_prompt_stub)"
   ]
  },
  {
   "attachments": {},
   "cell_type": "markdown",
   "metadata": {},
   "source": [
    "Now we'll make some training examples. Run the below cell until you get at least 10 items where you can figure out how to extract the beer name. "
   ]
  },
  {
   "cell_type": "code",
   "execution_count": 9,
   "metadata": {},
   "outputs": [
    {
     "data": {
      "text/html": [
       "<div>\n",
       "<style scoped>\n",
       "    .dataframe tbody tr th:only-of-type {\n",
       "        vertical-align: middle;\n",
       "    }\n",
       "\n",
       "    .dataframe tbody tr th {\n",
       "        vertical-align: top;\n",
       "    }\n",
       "\n",
       "    .dataframe thead th {\n",
       "        text-align: right;\n",
       "    }\n",
       "</style>\n",
       "<table border=\"1\" class=\"dataframe\">\n",
       "  <thead>\n",
       "    <tr style=\"text-align: right;\">\n",
       "      <th></th>\n",
       "      <th>Item</th>\n",
       "    </tr>\n",
       "  </thead>\n",
       "  <tbody>\n",
       "    <tr>\n",
       "      <th>751</th>\n",
       "      <td>36 Rickshaw Pinot Noir</td>\n",
       "    </tr>\n",
       "    <tr>\n",
       "      <th>3212</th>\n",
       "      <td>7M Superfuzz - Elysian</td>\n",
       "    </tr>\n",
       "    <tr>\n",
       "      <th>8326</th>\n",
       "      <td>19P Hard Wired NITRO Cof. Porter - Left hand</td>\n",
       "    </tr>\n",
       "    <tr>\n",
       "      <th>8565</th>\n",
       "      <td>25M Twisted Karma - Mountains Walking</td>\n",
       "    </tr>\n",
       "    <tr>\n",
       "      <th>5276</th>\n",
       "      <td>02 Fonsainte Gris de Gris Magnum</td>\n",
       "    </tr>\n",
       "    <tr>\n",
       "      <th>1091</th>\n",
       "      <td>9 Punkuccino - Elysian</td>\n",
       "    </tr>\n",
       "    <tr>\n",
       "      <th>25</th>\n",
       "      <td>29 Hops - Anthem</td>\n",
       "    </tr>\n",
       "    <tr>\n",
       "      <th>8768</th>\n",
       "      <td>Jauma - Danby Grenache - 2020</td>\n",
       "    </tr>\n",
       "    <tr>\n",
       "      <th>4210</th>\n",
       "      <td>Oyster River Dry Cider</td>\n",
       "    </tr>\n",
       "    <tr>\n",
       "      <th>3054</th>\n",
       "      <td>14S Dark Theory - Odell</td>\n",
       "    </tr>\n",
       "  </tbody>\n",
       "</table>\n",
       "</div>"
      ],
      "text/plain": [
       "                                              Item\n",
       "751                         36 Rickshaw Pinot Noir\n",
       "3212                        7M Superfuzz - Elysian\n",
       "8326  19P Hard Wired NITRO Cof. Porter - Left hand\n",
       "8565         25M Twisted Karma - Mountains Walking\n",
       "5276              02 Fonsainte Gris de Gris Magnum\n",
       "1091                        9 Punkuccino - Elysian\n",
       "25                                29 Hops - Anthem\n",
       "8768                 Jauma - Danby Grenache - 2020\n",
       "4210                        Oyster River Dry Cider\n",
       "3054                       14S Dark Theory - Odell"
      ]
     },
     "execution_count": 9,
     "metadata": {},
     "output_type": "execute_result"
    }
   ],
   "source": [
    "items.sample(10)"
   ]
  },
  {
   "cell_type": "code",
   "execution_count": 10,
   "metadata": {},
   "outputs": [
    {
     "data": {
      "text/plain": [
       "['11P Katabatic Airwaves and Evergreens IPA',\n",
       " 'Les Lunes Astral Blend',\n",
       " 'Meinklang - Burgenland Osterreich Red 2019',\n",
       " '01 STEIN!',\n",
       " '21P Oops! All Beer - Gild',\n",
       " '01G Odell Oktoberfest',\n",
       " '23S Not The Stoic - Deschutes',\n",
       " '8M Nelson Pale - Butte Brewing',\n",
       " '06P Yard Sale Amber - Tamarackw',\n",
       " '20 Stone Bitter Chocolate STout']"
      ]
     },
     "execution_count": 10,
     "metadata": {},
     "output_type": "execute_result"
    }
   ],
   "source": [
    "random.seed(20231020) # set the seed so we get the same results every time\n",
    "  # Feel free to modify seed to get an interesting list of items\n",
    "num_items = 10\n",
    "random_items = items.sample(num_items)['Item'].tolist()\n",
    "random_items"
   ]
  },
  {
   "attachments": {},
   "cell_type": "markdown",
   "metadata": {},
   "source": [
    "Now, I'm going to set up a place for you to put your training data. Once you've filled this in, you'll be able to make the few-shot learner. "
   ]
  },
  {
   "cell_type": "code",
   "execution_count": null,
   "metadata": {},
   "outputs": [],
   "source": [
    "raw_items = random_items # store these so we can refer to them. \n",
    "\n",
    "clean_items = [\"\",\n",
    "\"\",\n",
    "\"\",\n",
    "\"\",\n",
    "\"\",\n",
    "\"\",\n",
    "\"\",\n",
    "\"\",\n",
    "\"\",\n",
    "\"\"]\n",
    "\n",
    "\n",
    "\n",
    "# fill in the above list with your cleaned items. \n",
    "# For instance, if the item was '17G 2 x Thor Double IPA - Melvin', you \n",
    "# might put '2 x Thor Double IPA' in the list. Feel free to shrink raw_items\n",
    "# so that it only has beer in it.\n",
    " "
   ]
  },
  {
   "attachments": {},
   "cell_type": "markdown",
   "metadata": {},
   "source": [
    "Now we're ready for our examples. We'll add them on to `user_prompt_stub`."
   ]
  },
  {
   "cell_type": "code",
   "execution_count": null,
   "metadata": {},
   "outputs": [],
   "source": [
    "for idx, item in enumerate(raw_items):\n",
    "\n",
    "  user_prompt_stub += f\"| {item} | {clean_items[idx]} |\\n\"\n",
    "\n",
    "\n",
    "user_prompt_stub += \"Here is the new item: \""
   ]
  },
  {
   "cell_type": "code",
   "execution_count": null,
   "metadata": {},
   "outputs": [],
   "source": [
    "pprint(user_prompt_stub)"
   ]
  },
  {
   "attachments": {},
   "cell_type": "markdown",
   "metadata": {},
   "source": [
    "Now we're ready to append the new random items and test the efficacy of this method. "
   ]
  },
  {
   "cell_type": "code",
   "execution_count": null,
   "metadata": {},
   "outputs": [],
   "source": [
    "num_items = 10\n",
    "\n",
    "random_items = items.sample(num_items)\n",
    "\n",
    "total_tokens = 0 \n",
    "\n",
    "for item in random_items.itertuples():\n",
    "    this_item = item[1]\n",
    "    user_prompt = user_prompt_stub + f\" |{this_item}|\"\n",
    "\n",
    "    chat_response = openai.ChatCompletion.create(\n",
    "        model=\"gpt-3.5-turbo\",\n",
    "        messages=[\n",
    "            {\"role\": \"system\", \"content\": system_prompt},\n",
    "            {\"role\": \"user\", \"content\": user_prompt}\n",
    "        ],\n",
    "        temperature=0,\n",
    "        max_tokens=50,\n",
    "    )\n",
    "\n",
    "    print(\"-\"*30)\n",
    "    print(f\"The item was {this_item}.\")\n",
    "    print(\"----- The full response is on the next line. -----\")\n",
    "    print(chat_response.choices[0].message.content)\n",
    "\n",
    "    total_tokens += chat_response.usage[\"total_tokens\"]\n",
    "\n",
    "\n",
    "print(f\"\\n\\nThis cost ${total_tokens/1000*0.0015:.4f}.\")\n",
    "print(f\"If you did this 1000 times it'd be ${total_tokens*0.0015:.2f}\")"
   ]
  },
  {
   "attachments": {},
   "cell_type": "markdown",
   "metadata": {},
   "source": [
    "Again, fine tune this a bit, then run 50 items through it and see how it does. Note, you can keep your training samples exactly the same or add in additional samples to the prompt. "
   ]
  }
 ],
 "metadata": {
  "kernelspec": {
   "display_name": "Python 3",
   "language": "python",
   "name": "python3"
  },
  "language_info": {
   "codemirror_mode": {
    "name": "ipython",
    "version": 3
   },
   "file_extension": ".py",
   "mimetype": "text/x-python",
   "name": "python",
   "nbconvert_exporter": "python",
   "pygments_lexer": "ipython3",
   "version": "3.8.16"
  },
  "orig_nbformat": 4
 },
 "nbformat": 4,
 "nbformat_minor": 2
}
